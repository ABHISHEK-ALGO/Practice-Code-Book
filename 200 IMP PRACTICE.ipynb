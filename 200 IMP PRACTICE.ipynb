{
 "cells": [
  {
   "cell_type": "code",
   "execution_count": 4,
   "id": "0382a49e-dbde-4ae8-847c-f80d6ee64038",
   "metadata": {},
   "outputs": [
    {
     "name": "stdin",
     "output_type": "stream",
     "text": [
      "enter the num: 6\n"
     ]
    },
    {
     "name": "stdout",
     "output_type": "stream",
     "text": [
      "0 1 1 2 3 5 8 13 "
     ]
    }
   ],
   "source": [
    "# fibonacci \n",
    "\n",
    "n = int(input(\"enter the num:\"))\n",
    "num1 = 0\n",
    "num2 = 1\n",
    "print(num1,end=\" \")\n",
    "print(num2,end=\" \")\n",
    "for i in range(0,n):\n",
    "    num3 = num1 + num2\n",
    "    num1 = num2\n",
    "    num2 = num3\n",
    "    print(num3,end = \" \")"
   ]
  },
  {
   "cell_type": "code",
   "execution_count": 34,
   "id": "abf39f7a-2663-4315-84d1-e06690453d18",
   "metadata": {},
   "outputs": [
    {
     "name": "stdin",
     "output_type": "stream",
     "text": [
      "enter the position of number you want in  3\n"
     ]
    },
    {
     "name": "stdout",
     "output_type": "stream",
     "text": [
      "the 3th term in fibo is 1\n"
     ]
    }
   ],
   "source": [
    "# fibonacci with recursion\n",
    "\n",
    "def fibo(n):\n",
    "    if n <= 1:\n",
    "        return n\n",
    "    else:\n",
    "        return fibo(n-1) + fibo(n-2)\n",
    "\n",
    "n = int(input(\"enter the position of number you want in \"))\n",
    "if n <= 0 : \n",
    "    print(\"pls give the positive interver\")\n",
    "else:\n",
    "    nth_term = fibo(n-1)\n",
    "    print(f\"the {n}th term in fibo is {nth_term}\")"
   ]
  },
  {
   "cell_type": "code",
   "execution_count": 77,
   "id": "cb61b64e-dc7f-4fc1-9dbc-070b1e9d5e47",
   "metadata": {},
   "outputs": [
    {
     "name": "stdin",
     "output_type": "stream",
     "text": [
      "enter the number: 4\n"
     ]
    },
    {
     "name": "stdout",
     "output_type": "stream",
     "text": [
      "24\n"
     ]
    }
   ],
   "source": [
    "#  Find the factorial of a given number Write a program to use the loop to find the factorial of a given number.\n",
    "\n",
    "n = int(input(\"enter the number:\"))\n",
    "fact = 1 \n",
    "for i in range(1,n+1):\n",
    "    fact = fact*i\n",
    "    \n",
    "print(fact)\n",
    "\n",
    "# using recursion\n",
    "def factorial(n):\n",
    "    if n == 0 or n == 1:\n",
    "        return 1\n",
    "    else:\n",
    "        return n * factorial(n-1)"
   ]
  },
  {
   "cell_type": "code",
   "execution_count": 38,
   "id": "ee670460-3777-4aa9-8b8a-f73b79c488cf",
   "metadata": {},
   "outputs": [
    {
     "name": "stdin",
     "output_type": "stream",
     "text": [
      "enter the number upto which you want cube 4\n"
     ]
    },
    {
     "name": "stdout",
     "output_type": "stream",
     "text": [
      "the current number is this 4 and the cube is 1\n",
      "the current number is this 4 and the cube is 8\n",
      "the current number is this 4 and the cube is 27\n",
      "the current number is this 4 and the cube is 64\n"
     ]
    }
   ],
   "source": [
    "# Calculate the cube of all numbers from 1 to a given number Write a program to rint the cube of all numbers from 1 to a given number.fr\n",
    "\n",
    "n = int(input(\"enter the number upto which you want cube\"))\n",
    "\n",
    "for i in range(1,n+1):\n",
    "    cube = pow(i,3)\n",
    "    print(\"the current number is this {} and the cube is {}\".format(n,cube))"
   ]
  },
  {
   "cell_type": "code",
   "execution_count": 49,
   "id": "0ee35fc2-d0d5-4db6-aefe-ea41755dabe4",
   "metadata": {},
   "outputs": [
    {
     "name": "stdout",
     "output_type": "stream",
     "text": [
      "24690\n"
     ]
    }
   ],
   "source": [
    "'''Find the sum of the series upto n terms Write a program to calculate the sum of series up to n\n",
    " term. For example, if n =5 the series will become 2 + 22 + 222 + 2222 + 22222 = 24690'''\n",
    "\n",
    "n = 5\n",
    "x = 2\n",
    "result = 0\n",
    "for i in range(1,6):\n",
    "    y = str(x)*i\n",
    "    z = int(y) #int(\"\".join(y))\n",
    "    result = result + z\n",
    "print(result)"
   ]
  },
  {
   "cell_type": "code",
   "execution_count": 55,
   "id": "08a0723d-3bbd-4ac8-8bd3-59fc333bc4b5",
   "metadata": {},
   "outputs": [
    {
     "name": "stdin",
     "output_type": "stream",
     "text": [
      "enter the number: 3\n"
     ]
    },
    {
     "name": "stdout",
     "output_type": "stream",
     "text": [
      "* * * \n",
      "\n",
      "* * \n",
      "\n",
      "* \n",
      "\n"
     ]
    }
   ],
   "source": [
    "n = int(input(\"enter the number:\"))\n",
    "for i in range(n+1,1,-1):\n",
    "    for j in range(1,i):\n",
    "        print(\"*\",end=\" \")\n",
    "    print(\"\\n\")"
   ]
  },
  {
   "cell_type": "code",
   "execution_count": 59,
   "id": "c3e81e92-8a22-44bf-8614-10d723eccdb9",
   "metadata": {},
   "outputs": [
    {
     "name": "stdin",
     "output_type": "stream",
     "text": [
      "enter the number: 5\n"
     ]
    },
    {
     "name": "stdout",
     "output_type": "stream",
     "text": [
      "\n",
      "\n",
      "* \n",
      "\n",
      "* * \n",
      "\n",
      "* * * \n",
      "\n",
      "* * * * \n",
      "\n",
      "* * * * * \n",
      "\n"
     ]
    }
   ],
   "source": [
    "n = int(input(\"enter the number:\"))\n",
    "for i in range(1,n+2):\n",
    "    for j in range(1,i):\n",
    "        print(\"*\",end=\" \")\n",
    "    print(\"\\n\")"
   ]
  },
  {
   "cell_type": "code",
   "execution_count": 65,
   "id": "4b136109-14eb-4e1d-b525-219fdf34b8b4",
   "metadata": {},
   "outputs": [
    {
     "name": "stdout",
     "output_type": "stream",
     "text": [
      "     * \n",
      "    * * \n",
      "   * * * \n",
      "  * * * * \n",
      " * * * * * \n"
     ]
    }
   ],
   "source": [
    "n = 5 \n",
    "for i in range(0,n):\n",
    "\n",
    "    for j in range(0,n-i):\n",
    "        print(end = \" \")\n",
    "    for k in range(0,i+1):\n",
    "        print(\"*\",end = \" \")\n",
    "    print()"
   ]
  },
  {
   "cell_type": "code",
   "execution_count": 69,
   "id": "2aec8890-956c-4f2e-a93d-a39b8a2030b6",
   "metadata": {},
   "outputs": [
    {
     "name": "stdout",
     "output_type": "stream",
     "text": [
      "1 3 5 7 9 11 13 15 17 19 "
     ]
    }
   ],
   "source": [
    "pr_num = 0\n",
    "for i in range(1,11):\n",
    "    x = i + pr_num\n",
    "    pr_num = i\n",
    "    print(x,end=\" \")"
   ]
  },
  {
   "cell_type": "code",
   "execution_count": null,
   "id": "60818caa-ad12-4553-93d4-0e496df63d2f",
   "metadata": {},
   "outputs": [],
   "source": [
    "def gcd(a, b):\n",
    "    # Find the minimum of a and b to limit the range of common divisors\n",
    "    smaller = min(a, b)\n",
    "    \n",
    "    for i in range(smaller, 0, -1):  # Start from the smaller number and go down to 1\n",
    "        if a % i == 0 and b % i == 0:  # Check if both numbers are divisible by i\n",
    "            return i  # Return the first common divisor, which is the GCD\n",
    "\n",
    "# Example usage\n",
    "num1 = int(input(\"Enter the first number: \"))\n",
    "num2 = int(input(\"Enter the second number: \"))\n",
    "result = gcd(num1, num2)\n",
    "print(f\"The GCD of {num1} and {num2} is {result}\")"
   ]
  },
  {
   "cell_type": "code",
   "execution_count": 83,
   "id": "278c16e6-de15-4955-ac62-03859e7dcaa9",
   "metadata": {},
   "outputs": [
    {
     "name": "stdin",
     "output_type": "stream",
     "text": [
      "enter the first number: 12\n",
      "enter the second number: 56\n"
     ]
    },
    {
     "name": "stdout",
     "output_type": "stream",
     "text": [
      "The GCD of 12 and 56 is 4\n"
     ]
    }
   ],
   "source": [
    "# GCD\n",
    "\n",
    "def gcd(a,b):\n",
    "    smaller = min(a,b)\n",
    "    for i in range(smaller,0,-1):\n",
    "        if a%i == 0 and b%i == 0:\n",
    "            return i\n",
    "n = int(input(\"enter the first number:\"))\n",
    "m = int(input(\"enter the second number:\"))\n",
    "result = gcd(n,m)\n",
    "print(f\"The GCD of {n} and {m} is {result}\")\n",
    "\n",
    "\n",
    "# x=int(input(\"enter the number: \"))\n",
    "#  y=int(input(\"enter the number: \"))\n",
    "#  x_div=[]\n",
    "#  y_div=[]\n",
    "#  for i in range(1,x+1):\n",
    "#  if x%i==0:\n",
    "#  x_div.append(i)\n",
    "#  for i in range(1,y+1):\n",
    "#  if y%i==0:\n",
    "#  y_div.append(i)\n",
    "#  comman_list=[]\n",
    "#  for i in x_div:\n",
    "#  if i in y_div:\n",
    "#  comman_list.append(i)\n",
    "#  print(\"HCF of given two number is \",max(comman_list))"
   ]
  },
  {
   "cell_type": "code",
   "execution_count": 87,
   "id": "f265701a-a007-46af-8cc4-93a74fc55cab",
   "metadata": {},
   "outputs": [
    {
     "name": "stdin",
     "output_type": "stream",
     "text": [
      "enter the first number : 6\n",
      "enter the second number : 8\n"
     ]
    },
    {
     "name": "stdout",
     "output_type": "stream",
     "text": [
      "24\n"
     ]
    }
   ],
   "source": [
    "# LCM\n",
    "a = int(input(\"enter the first number :\"))\n",
    "b = int(input(\"enter the second number :\"))\n",
    "if a>b :\n",
    "    greater = a \n",
    "else:\n",
    "    greater = b\n",
    "while(True):\n",
    "    if (greater%a == 0) and (greater%b == 0):\n",
    "        LCM = greater \n",
    "        break\n",
    "    greater += 1\n",
    "print(LCM)"
   ]
  }
 ],
 "metadata": {
  "kernelspec": {
   "display_name": "Python 3 (ipykernel)",
   "language": "python",
   "name": "python3"
  },
  "language_info": {
   "codemirror_mode": {
    "name": "ipython",
    "version": 3
   },
   "file_extension": ".py",
   "mimetype": "text/x-python",
   "name": "python",
   "nbconvert_exporter": "python",
   "pygments_lexer": "ipython3",
   "version": "3.11.7"
  }
 },
 "nbformat": 4,
 "nbformat_minor": 5
}
