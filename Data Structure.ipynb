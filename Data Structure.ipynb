{
 "cells": [
  {
   "cell_type": "markdown",
   "id": "00670b0b-d47a-4e13-9b9c-712b93e9d347",
   "metadata": {},
   "source": [
    "## LIST"
   ]
  },
  {
   "cell_type": "code",
   "execution_count": 4,
   "id": "35c1f69f-ec74-4165-9d38-536b94926bcd",
   "metadata": {},
   "outputs": [],
   "source": [
    "mylist = ['one' , 'two' , 'three' , 'four' , 'five' , 'six' , 'seven' , 'eight']"
   ]
  },
  {
   "cell_type": "code",
   "execution_count": 6,
   "id": "3f07488f-bd79-49c2-bc4e-810847faf665",
   "metadata": {},
   "outputs": [],
   "source": [
    "list5 = ['Asif', 25 ,[50, 100],[150, 90]]"
   ]
  },
  {
   "cell_type": "code",
   "execution_count": 14,
   "id": "47d05852-23a3-4e6a-a61c-6838c10607b5",
   "metadata": {},
   "outputs": [
    {
     "name": "stdout",
     "output_type": "stream",
     "text": [
      "i\n"
     ]
    }
   ],
   "source": [
    "a = list5[0][2]\n",
    "print(a)"
   ]
  },
  {
   "cell_type": "code",
   "execution_count": 26,
   "id": "e914b583-cec5-4f79-a439-9d0101e65cce",
   "metadata": {},
   "outputs": [
    {
     "data": {
      "text/plain": [
       "['one', 'two', 'three', 'four', 'five']"
      ]
     },
     "execution_count": 26,
     "metadata": {},
     "output_type": "execute_result"
    }
   ],
   "source": [
    "mylist[:-3]"
   ]
  },
  {
   "cell_type": "code",
   "execution_count": 28,
   "id": "e91e9047-306a-481a-b5a9-93e3bbf658e2",
   "metadata": {},
   "outputs": [
    {
     "data": {
      "text/plain": [
       "['six', 'seven', 'eight']"
      ]
     },
     "execution_count": 28,
     "metadata": {},
     "output_type": "execute_result"
    }
   ],
   "source": [
    "mylist[-3:]"
   ]
  },
  {
   "cell_type": "code",
   "execution_count": 54,
   "id": "f3006edc-c9a6-463f-ad70-35be227f1712",
   "metadata": {},
   "outputs": [
    {
     "data": {
      "text/plain": [
       "['Asif', 25, [50, 100], 5, 5, [150, 90]]"
      ]
     },
     "execution_count": 54,
     "metadata": {},
     "output_type": "execute_result"
    }
   ],
   "source": [
    "list5.insert(3,5)\n",
    "list5"
   ]
  },
  {
   "cell_type": "code",
   "execution_count": 58,
   "id": "e806a33b-4573-4525-b712-1d000359955e",
   "metadata": {},
   "outputs": [
    {
     "data": {
      "text/plain": [
       "['Asif', 25, [50, 100], [150, 90]]"
      ]
     },
     "execution_count": 58,
     "metadata": {},
     "output_type": "execute_result"
    }
   ],
   "source": [
    "list5.remove(5)\n",
    "list5"
   ]
  },
  {
   "cell_type": "code",
   "execution_count": 98,
   "id": "69c546d3-f737-4515-bdba-a4c0d9d12125",
   "metadata": {},
   "outputs": [
    {
     "ename": "ValueError",
     "evalue": "list.remove(x): x not in list",
     "output_type": "error",
     "traceback": [
      "\u001b[1;31m---------------------------------------------------------------------------\u001b[0m",
      "\u001b[1;31mValueError\u001b[0m                                Traceback (most recent call last)",
      "Cell \u001b[1;32mIn[98], line 1\u001b[0m\n\u001b[1;32m----> 1\u001b[0m mylist\u001b[38;5;241m.\u001b[39mremove(\u001b[38;5;124m'\u001b[39m\u001b[38;5;124mfive\u001b[39m\u001b[38;5;124m'\u001b[39m)\n\u001b[0;32m      2\u001b[0m mylist\n",
      "\u001b[1;31mValueError\u001b[0m: list.remove(x): x not in list"
     ]
    }
   ],
   "source": [
    "mylist.remove('five')\n",
    "mylist"
   ]
  },
  {
   "cell_type": "code",
   "execution_count": 108,
   "id": "5b86e4e7-87d0-4c90-9ce2-1d840d63cbf9",
   "metadata": {},
   "outputs": [
    {
     "data": {
      "text/plain": [
       "['one',\n",
       " 'two',\n",
       " 'pet',\n",
       " 7,\n",
       " 'six',\n",
       " 'seven',\n",
       " 'eight',\n",
       " 'nine',\n",
       " 'nine',\n",
       " 'nine',\n",
       " 'nine',\n",
       " 'nine']"
      ]
     },
     "execution_count": 108,
     "metadata": {},
     "output_type": "execute_result"
    }
   ],
   "source": [
    "mylist[3] = 7\n",
    "mylist[2] = 'pet'\n",
    "mylist"
   ]
  },
  {
   "cell_type": "code",
   "execution_count": 126,
   "id": "6f6a1b9b-d9e2-454b-af4c-851936d41ed4",
   "metadata": {},
   "outputs": [],
   "source": [
    "list5.clear()\n",
    "list5.insert(0,'bob')\n",
    "list5.insert(4,6)\n",
    "del list5[0]\n",
    "del list5"
   ]
  },
  {
   "cell_type": "code",
   "execution_count": 130,
   "id": "ded5505e-3da1-4d1b-a995-ab875a90a2e2",
   "metadata": {},
   "outputs": [
    {
     "data": {
      "text/plain": [
       "(1586993945856, 1586993945856)"
      ]
     },
     "execution_count": 130,
     "metadata": {},
     "output_type": "execute_result"
    }
   ],
   "source": [
    "mylist1 = mylist\n",
    "id(mylist1),id(mylist)"
   ]
  },
  {
   "cell_type": "code",
   "execution_count": 134,
   "id": "9f7c0484-a359-4d5e-ab71-3989f22df6a3",
   "metadata": {},
   "outputs": [
    {
     "data": {
      "text/plain": [
       "(1587048068992, 1586993945856)"
      ]
     },
     "execution_count": 134,
     "metadata": {},
     "output_type": "execute_result"
    }
   ],
   "source": [
    "mylist2 = mylist.copy()\n",
    "id(mylist2),id(mylist)"
   ]
  },
  {
   "cell_type": "code",
   "execution_count": 140,
   "id": "e352133b-34a4-4012-ae52-035192eb2639",
   "metadata": {},
   "outputs": [
    {
     "data": {
      "text/plain": [
       "['Asif',\n",
       " 25,\n",
       " [50, 100],\n",
       " [150, 90],\n",
       " 'one',\n",
       " 'two',\n",
       " 'pet',\n",
       " 7,\n",
       " 'six',\n",
       " 'seven',\n",
       " 'eight',\n",
       " 'nine',\n",
       " 'nine',\n",
       " 'nine',\n",
       " 'nine',\n",
       " 'nine']"
      ]
     },
     "execution_count": 140,
     "metadata": {},
     "output_type": "execute_result"
    }
   ],
   "source": [
    "list1 = ['Asif', 25 ,[50, 100],[150, 90]]\n",
    "new_list = list1+mylist\n",
    "new_list"
   ]
  },
  {
   "cell_type": "code",
   "execution_count": 150,
   "id": "ecedf1cd-af41-47fc-b0c7-7b68e5670bcb",
   "metadata": {},
   "outputs": [],
   "source": [
    "# list1.extend(mylist)\n",
    "# list1"
   ]
  },
  {
   "cell_type": "code",
   "execution_count": 158,
   "id": "543c3747-3a7d-4919-a7fd-c22c9e665927",
   "metadata": {},
   "outputs": [
    {
     "data": {
      "text/plain": [
       "[2, 5, 9, 12, 34, 88, 99]"
      ]
     },
     "execution_count": 158,
     "metadata": {},
     "output_type": "execute_result"
    }
   ],
   "source": [
    " mylist3 = [9,5,2,99,12,88,34]\n",
    "mylist3.sort()\n",
    "mylist3"
   ]
  },
  {
   "cell_type": "code",
   "execution_count": 162,
   "id": "cbdfebb0-73df-4b25-8992-24e21e79cf74",
   "metadata": {},
   "outputs": [
    {
     "data": {
      "text/plain": [
       "[2, 5, 9, 12, 34, 88, 99]"
      ]
     },
     "execution_count": 162,
     "metadata": {},
     "output_type": "execute_result"
    }
   ],
   "source": [
    "mylist3"
   ]
  },
  {
   "cell_type": "code",
   "execution_count": 164,
   "id": "c4b74227-a977-49fd-9c87-d5f00f66f01a",
   "metadata": {},
   "outputs": [
    {
     "name": "stdout",
     "output_type": "stream",
     "text": [
      "2\n",
      "5\n",
      "9\n",
      "12\n",
      "34\n",
      "88\n",
      "99\n"
     ]
    }
   ],
   "source": [
    "for i in mylist3:\n",
    "    print(i)"
   ]
  },
  {
   "cell_type": "code",
   "execution_count": 166,
   "id": "046edbb2-9be0-4905-8866-4cc4e64bb49e",
   "metadata": {},
   "outputs": [
    {
     "data": {
      "text/plain": [
       "False"
      ]
     },
     "execution_count": 166,
     "metadata": {},
     "output_type": "execute_result"
    }
   ],
   "source": [
    "8 in mylist3"
   ]
  },
  {
   "cell_type": "code",
   "execution_count": 170,
   "id": "0e261cb1-c82e-496b-be0b-afd5c6c60861",
   "metadata": {},
   "outputs": [
    {
     "data": {
      "text/plain": [
       "5"
      ]
     },
     "execution_count": 170,
     "metadata": {},
     "output_type": "execute_result"
    }
   ],
   "source": [
    "mylist.count('nine')"
   ]
  },
  {
   "cell_type": "code",
   "execution_count": 174,
   "id": "91f7d838-e708-4340-8f2b-42911679d460",
   "metadata": {},
   "outputs": [
    {
     "data": {
      "text/plain": [
       "['A', 'B', 'H', 'I', 'N', 'A', 'N', 'D', 'A', 'N']"
      ]
     },
     "execution_count": 174,
     "metadata": {},
     "output_type": "execute_result"
    }
   ],
   "source": [
    "name = 'ABHINANDAN'\n",
    "na = [i for i in name]\n",
    "na"
   ]
  },
  {
   "cell_type": "code",
   "execution_count": 180,
   "id": "a1bb8b01-5f00-4855-a221-fdaa1c3c600e",
   "metadata": {},
   "outputs": [
    {
     "data": {
      "text/plain": [
       "[0, 2, 4, 6, 8, 10, 12, 14, 16, 18, 20, 22, 24, 26, 28, 30]"
      ]
     },
     "execution_count": 180,
     "metadata": {},
     "output_type": "execute_result"
    }
   ],
   "source": [
    "even = [i for i in range(0,31) if i%2==0]\n",
    "even"
   ]
  },
  {
   "cell_type": "code",
   "execution_count": 184,
   "id": "bbedd72c-41d2-416b-977c-b216f87dc877",
   "metadata": {},
   "outputs": [
    {
     "data": {
      "text/plain": [
       "[1, 3, 5, 7, 9, 11, 13, 15, 17, 19, 21, 23, 25, 27, 29]"
      ]
     },
     "execution_count": 184,
     "metadata": {},
     "output_type": "execute_result"
    }
   ],
   "source": [
    "odd = [i for i in range(30) if i%2==1]\n",
    "odd"
   ]
  },
  {
   "cell_type": "code",
   "execution_count": 190,
   "id": "fdfabc06-1e19-4eb0-8c31-2107bba49dd7",
   "metadata": {},
   "outputs": [
    {
     "data": {
      "text/plain": [
       "[0, 4, 16, 36, 64]"
      ]
     },
     "execution_count": 190,
     "metadata": {},
     "output_type": "execute_result"
    }
   ],
   "source": [
    "square = [i**2 for i in range(10) if i%2 == 0]\n",
    "square"
   ]
  },
  {
   "cell_type": "code",
   "execution_count": 202,
   "id": "febef963-2d3f-4032-b673-88a95fb3fcf9",
   "metadata": {},
   "outputs": [
    {
     "data": {
      "text/plain": [
       "[0, 15, 30, 45, 60, 75, 90, 105, 120, 135, 150, 165, 180, 195]"
      ]
     },
     "execution_count": 202,
     "metadata": {},
     "output_type": "execute_result"
    }
   ],
   "source": [
    "mul_3_5 = [i for i in range(200) if (i%3==0) and (i%5==0)]\n",
    "mul_3_5"
   ]
  },
  {
   "cell_type": "code",
   "execution_count": 208,
   "id": "9680f742-ede3-477c-b974-4767097f1d4d",
   "metadata": {},
   "outputs": [
    {
     "data": {
      "text/plain": [
       "['1', '2', '3', '4', '5', '6', '7', '8', '9']"
      ]
     },
     "execution_count": 208,
     "metadata": {},
     "output_type": "execute_result"
    }
   ],
   "source": [
    " mystr = \"One 1 two 2 three 3 four 4 five 5 six 6789\"\n",
    "num = [i for i in mystr if i.isdigit()]\n",
    "num"
   ]
  },
  {
   "cell_type": "code",
   "execution_count": 216,
   "id": "3e11f4dc-f540-41ff-adf8-3ff56953eff8",
   "metadata": {},
   "outputs": [
    {
     "data": {
      "text/plain": [
       "['O', 'n', 'e', 't', 'w', 'o', 't', 'h', 'r']"
      ]
     },
     "execution_count": 216,
     "metadata": {},
     "output_type": "execute_result"
    }
   ],
   "source": [
    " mystr = \"One 1 two 2 three 3 four 4 five 5 six 6789\"\n",
    "alpha = [i for i in mystr if i.isalpha()]\n",
    "alpha[0:9]"
   ]
  },
  {
   "cell_type": "code",
   "execution_count": 222,
   "id": "6c94a2b2-a82b-4d66-b5e5-747e5288d6f8",
   "metadata": {},
   "outputs": [
    {
     "data": {
      "text/plain": [
       "1"
      ]
     },
     "execution_count": 222,
     "metadata": {},
     "output_type": "execute_result"
    }
   ],
   "source": [
    "tu = ['Asif', 25 ,[50, 100],[150, 90] , {'John' , 'David'} , [99,22,33]]\n",
    "tu[5][1]\n",
    "tu.index(25)"
   ]
  },
  {
   "cell_type": "code",
   "execution_count": null,
   "id": "fc6fbe8e-e535-42dd-b553-f5d686ca2e3d",
   "metadata": {},
   "outputs": [],
   "source": [
    "tup7 = ('Asif', 25 ,[50, 100],[150, 90] , {'John' , 'David'} , (99,22,33))\n"
   ]
  },
  {
   "cell_type": "markdown",
   "id": "ff939452-1c85-49f7-8a17-19d224cff76a",
   "metadata": {},
   "source": [
    "## Set"
   ]
  },
  {
   "cell_type": "code",
   "execution_count": 226,
   "id": "db39138e-fe26-4f16-9bb7-96c69e5ec5a1",
   "metadata": {},
   "outputs": [
    {
     "data": {
      "text/plain": [
       "{2, 4, 5, 6, 7}"
      ]
     },
     "execution_count": 226,
     "metadata": {},
     "output_type": "execute_result"
    }
   ],
   "source": [
    "set1 = {2,4,5,5,6,5,7}\n",
    "set1"
   ]
  },
  {
   "cell_type": "code",
   "execution_count": 234,
   "id": "8d684a01-cfaf-477b-bc1e-24905cd7de8a",
   "metadata": {},
   "outputs": [
    {
     "name": "stdout",
     "output_type": "stream",
     "text": [
      "(0, 2)\n",
      "(1, 4)\n",
      "(2, 5)\n",
      "(3, 6)\n",
      "(4, 7)\n"
     ]
    }
   ],
   "source": [
    "set2 = set((2,4,5,5,6,5,7))\n",
    "set2\n",
    "for i in enumerate(set2):\n",
    " print(i)"
   ]
  },
  {
   "cell_type": "markdown",
   "id": "7fba31d7-0023-42cc-a698-1df8dc7a8de9",
   "metadata": {},
   "source": [
    "## String"
   ]
  },
  {
   "cell_type": "code",
   "execution_count": 242,
   "id": "da168425-cf0e-4203-8a83-307d43e0cb50",
   "metadata": {},
   "outputs": [
    {
     "name": "stdout",
     "output_type": "stream",
     "text": [
      "HELLO PYTHONHELLO PYTHON "
     ]
    }
   ],
   "source": [
    "str1 = 'HELLO PYTHON'\n",
    "print(str1*2)"
   ]
  },
  {
   "cell_type": "code",
   "execution_count": 250,
   "id": "70ff6d16-16ef-4386-9cd6-70fdc8412412",
   "metadata": {},
   "outputs": [
    {
     "data": {
      "text/plain": [
       "'N'"
      ]
     },
     "execution_count": 250,
     "metadata": {},
     "output_type": "execute_result"
    }
   ],
   "source": [
    "str1[len(str1)-1]"
   ]
  },
  {
   "cell_type": "code",
   "execution_count": 264,
   "id": "1bc08ed5-ff24-46c2-a1e6-7bd10c29c7d9",
   "metadata": {
    "scrolled": true
   },
   "outputs": [
    {
     "ename": "TypeError",
     "evalue": "'str' object does not support item assignment",
     "output_type": "error",
     "traceback": [
      "\u001b[1;31m---------------------------------------------------------------------------\u001b[0m",
      "\u001b[1;31mTypeError\u001b[0m                                 Traceback (most recent call last)",
      "Cell \u001b[1;32mIn[264], line 1\u001b[0m\n\u001b[1;32m----> 1\u001b[0m str1[\u001b[38;5;241m-\u001b[39m\u001b[38;5;241m4\u001b[39m:\u001b[38;5;241m-\u001b[39m\u001b[38;5;241m1\u001b[39m]\u001b[38;5;241m=\u001b[39m\u001b[38;5;124m'\u001b[39m\u001b[38;5;124mgee\u001b[39m\u001b[38;5;124m'\u001b[39m\n",
      "\u001b[1;31mTypeError\u001b[0m: 'str' object does not support item assignment"
     ]
    }
   ],
   "source": [
    "str1[-4:-1]='gee'"
   ]
  },
  {
   "cell_type": "code",
   "execution_count": 270,
   "id": "5ab7486b-249d-4164-accd-90696742c6b0",
   "metadata": {},
   "outputs": [
    {
     "name": "stdout",
     "output_type": "stream",
     "text": [
      "HELLO PYTHON for you\n"
     ]
    }
   ],
   "source": [
    "str2 = 'for you'\n",
    "str3 = str1 +\" \"+ str2\n",
    "print(str3)"
   ]
  },
  {
   "cell_type": "code",
   "execution_count": 274,
   "id": "af1f3190-e12f-4bcf-b5ca-391fc0265f75",
   "metadata": {
    "scrolled": true
   },
   "outputs": [
    {
     "name": "stdout",
     "output_type": "stream",
     "text": [
      "(0, 'H')\n",
      "(1, 'E')\n",
      "(2, 'L')\n",
      "(3, 'L')\n",
      "(4, 'O')\n",
      "(5, ' ')\n",
      "(6, 'P')\n",
      "(7, 'Y')\n",
      "(8, 'T')\n",
      "(9, 'H')\n",
      "(10, 'O')\n",
      "(11, 'N')\n",
      "(12, ' ')\n",
      "(13, 'f')\n",
      "(14, 'o')\n",
      "(15, 'r')\n",
      "(16, ' ')\n",
      "(17, 'y')\n",
      "(18, 'o')\n",
      "(19, 'u')\n"
     ]
    }
   ],
   "source": [
    "for i in enumerate (str3):\n",
    "    print(i)"
   ]
  },
  {
   "cell_type": "code",
   "execution_count": 276,
   "id": "c10b344f-61e7-4c65-83f0-6604c6742d74",
   "metadata": {},
   "outputs": [
    {
     "name": "stdout",
     "output_type": "stream",
     "text": [
      "('Natural language processing with Python and R ', 'and', ' Java')\n"
     ]
    }
   ],
   "source": [
    " str5 = \"Natural language processing with Python and R and Java\"\n",
    " L = str5.rpartition(\"and\") \n",
    "print(L)"
   ]
  },
  {
   "cell_type": "code",
   "execution_count": 278,
   "id": "289ff2e0-77d6-4577-a052-6bbf58b034c9",
   "metadata": {},
   "outputs": [
    {
     "name": "stdout",
     "output_type": "stream",
     "text": [
      "('Natural language processing with Python ', 'and', ' R and Java')\n"
     ]
    }
   ],
   "source": [
    " str5 = \"Natural language processing with Python and R and Java\"\n",
    " L = str5.partition(\"and\") \n",
    "print(L)"
   ]
  },
  {
   "cell_type": "code",
   "execution_count": 298,
   "id": "c10ddc10-3684-4f3d-af96-3127cc7f645f",
   "metadata": {},
   "outputs": [
    {
     "data": {
      "text/plain": [
       "'  HKllo Everyone  '"
      ]
     },
     "execution_count": 298,
     "metadata": {},
     "output_type": "execute_result"
    }
   ],
   "source": [
    "mystr2 = '  Hello Everyone  '\n",
    "mystr2.replace(\"He\",\"HK\")"
   ]
  },
  {
   "cell_type": "code",
   "execution_count": 310,
   "id": "c19cf69b-73f7-46e8-b2df-29d6759c2650",
   "metadata": {},
   "outputs": [
    {
     "name": "stdout",
     "output_type": "stream",
     "text": [
      "Cost of item1 , item2 and item3 are 40 , 55 and 77\n",
      "Cost of item1 , item2 and item3 are 40 , 55 and 77\n",
      "Cost of item1 , item2 and item3 are 40 , 55 and 77\n"
     ]
    }
   ],
   "source": [
    " item1 = 40\n",
    " item2 = 55\n",
    " item3 = 77\n",
    " res = \"Cost of item1 , item2 and item3 are {} , {} and {}\"\n",
    "print(\"Cost of item1 , item2 and item3 are {} , {} and {}\".format(item1,item2,item3))\n",
    "print(f\"Cost of item1 , item2 and item3 are {item1} , {item2} and {item3}\")\n",
    "print(res.format(item1,item2,item3))"
   ]
  },
  {
   "cell_type": "markdown",
   "id": "eed2f8b9-1abf-4816-ad86-d57081ac63ee",
   "metadata": {},
   "source": [
    "## Dictionary\n",
    "\n",
    "my_dict = dict({1:'one' , 2:'two' , 'A':{'Name':'asif' , 'Age' :20}})"
   ]
  },
  {
   "cell_type": "code",
   "execution_count": 315,
   "id": "e30c5cb4-7a9e-4f65-86f4-379c50c6f1e6",
   "metadata": {},
   "outputs": [
    {
     "data": {
      "text/plain": [
       "{1: 'one', 2: 'two', 'A': {'Name': 'asif', 'Age': 20}}"
      ]
     },
     "execution_count": 315,
     "metadata": {},
     "output_type": "execute_result"
    }
   ],
   "source": [
    "my_dict = dict({1:'one' , 2:'two' , 'A':{'Name':'asif' , 'Age' :20}})\n",
    "my_dict"
   ]
  },
  {
   "cell_type": "code",
   "execution_count": 325,
   "id": "8b46de64-4522-4085-a736-0758d5bd1e6e",
   "metadata": {},
   "outputs": [
    {
     "data": {
      "text/plain": [
       "{'a': {'10', '20', '30'},\n",
       " 'b': {'10', '20', '30'},\n",
       " 'c': {'10', '20', '30'},\n",
       " 'd': {'10', '20', '30'}}"
      ]
     },
     "execution_count": 325,
     "metadata": {},
     "output_type": "execute_result"
    }
   ],
   "source": [
    " keys = {'a' , 'b' , 'c' , 'd'}\n",
    "value = {'10','20','30'}\n",
    "my_dict2 = dict.fromkeys(keys,value)\n",
    "my_dict2"
   ]
  }
 ],
 "metadata": {
  "kernelspec": {
   "display_name": "Python 3 (ipykernel)",
   "language": "python",
   "name": "python3"
  },
  "language_info": {
   "codemirror_mode": {
    "name": "ipython",
    "version": 3
   },
   "file_extension": ".py",
   "mimetype": "text/x-python",
   "name": "python",
   "nbconvert_exporter": "python",
   "pygments_lexer": "ipython3",
   "version": "3.11.7"
  }
 },
 "nbformat": 4,
 "nbformat_minor": 5
}
