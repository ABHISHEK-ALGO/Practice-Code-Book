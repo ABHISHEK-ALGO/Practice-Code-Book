{
 "cells": [
  {
   "cell_type": "markdown",
   "id": "00670b0b-d47a-4e13-9b9c-712b93e9d347",
   "metadata": {},
   "source": [
    "# LIST"
   ]
  },
  {
   "cell_type": "code",
   "execution_count": 11,
   "id": "35c1f69f-ec74-4165-9d38-536b94926bcd",
   "metadata": {},
   "outputs": [],
   "source": [
    "mylist = ['one' , 'two' , 'three' , 'four' , 'five' , 'six' , 'seven' , 'eight']"
   ]
  },
  {
   "cell_type": "code",
   "execution_count": 12,
   "id": "3f07488f-bd79-49c2-bc4e-810847faf665",
   "metadata": {},
   "outputs": [],
   "source": [
    "list5 = [['Asif', 25 ],[50, 100],[150, 90]]"
   ]
  },
  {
   "cell_type": "code",
   "execution_count": 13,
   "id": "47d05852-23a3-4e6a-a61c-6838c10607b5",
   "metadata": {},
   "outputs": [
    {
     "ename": "IndexError",
     "evalue": "list index out of range",
     "output_type": "error",
     "traceback": [
      "\u001b[1;31m---------------------------------------------------------------------------\u001b[0m",
      "\u001b[1;31mIndexError\u001b[0m                                Traceback (most recent call last)",
      "Cell \u001b[1;32mIn[13], line 1\u001b[0m\n\u001b[1;32m----> 1\u001b[0m a \u001b[38;5;241m=\u001b[39m list5[\u001b[38;5;241m0\u001b[39m][\u001b[38;5;241m2\u001b[39m]\n\u001b[0;32m      2\u001b[0m \u001b[38;5;28mprint\u001b[39m(a)\n",
      "\u001b[1;31mIndexError\u001b[0m: list index out of range"
     ]
    }
   ],
   "source": [
    "a = list5[0][2]\n",
    "print(a)"
   ]
  },
  {
   "cell_type": "code",
   "execution_count": null,
   "id": "24ec1cb9-4943-4a81-828c-e4fc26ae4ad8",
   "metadata": {},
   "outputs": [],
   "source": [
    "matrix = [\n",
    "    [1, 2, 3], \n",
    "    [4, 5, 6], \n",
    "    [7, 8, 9]\n",
    "]\n",
    "matrix[-1:1]"
   ]
  },
  {
   "cell_type": "code",
   "execution_count": null,
   "id": "e914b583-cec5-4f79-a439-9d0101e65cce",
   "metadata": {},
   "outputs": [],
   "source": [
    "mylist[:-3:1]\n",
    "mylist[:-3:2]"
   ]
  },
  {
   "cell_type": "code",
   "execution_count": null,
   "id": "e91e9047-306a-481a-b5a9-93e3bbf658e2",
   "metadata": {},
   "outputs": [],
   "source": [
    "mylist[-3:]"
   ]
  },
  {
   "cell_type": "code",
   "execution_count": null,
   "id": "f3006edc-c9a6-463f-ad70-35be227f1712",
   "metadata": {},
   "outputs": [],
   "source": [
    "list5.insert(3,5)\n",
    "list5"
   ]
  },
  {
   "cell_type": "code",
   "execution_count": null,
   "id": "e806a33b-4573-4525-b712-1d000359955e",
   "metadata": {},
   "outputs": [],
   "source": [
    "list5.remove(5)\n",
    "list5"
   ]
  },
  {
   "cell_type": "code",
   "execution_count": null,
   "id": "69c546d3-f737-4515-bdba-a4c0d9d12125",
   "metadata": {},
   "outputs": [],
   "source": [
    "mylist.remove('five')\n",
    "mylist"
   ]
  },
  {
   "cell_type": "code",
   "execution_count": null,
   "id": "5b86e4e7-87d0-4c90-9ce2-1d840d63cbf9",
   "metadata": {},
   "outputs": [],
   "source": [
    "mylist[3] = 7\n",
    "mylist[2] = 'pet'\n",
    "mylist"
   ]
  },
  {
   "cell_type": "code",
   "execution_count": null,
   "id": "6f6a1b9b-d9e2-454b-af4c-851936d41ed4",
   "metadata": {},
   "outputs": [],
   "source": [
    "list5.clear()\n",
    "list5.insert(0,'bob')\n",
    "list5.insert(4,6)\n",
    "del list5[0]\n",
    "del list5"
   ]
  },
  {
   "cell_type": "code",
   "execution_count": null,
   "id": "ded5505e-3da1-4d1b-a995-ab875a90a2e2",
   "metadata": {},
   "outputs": [],
   "source": [
    "mylist1 = mylist\n",
    "id(mylist1),id(mylist)"
   ]
  },
  {
   "cell_type": "code",
   "execution_count": null,
   "id": "9f7c0484-a359-4d5e-ab71-3989f22df6a3",
   "metadata": {},
   "outputs": [],
   "source": [
    "mylist2 = mylist.copy()\n",
    "id(mylist2),id(mylist)"
   ]
  },
  {
   "cell_type": "code",
   "execution_count": null,
   "id": "e352133b-34a4-4012-ae52-035192eb2639",
   "metadata": {},
   "outputs": [],
   "source": [
    "list1 = ['Asif', 25 ,[50, 100],[150, 90]]\n",
    "new_list = list1+mylist\n",
    "new_list"
   ]
  },
  {
   "cell_type": "code",
   "execution_count": null,
   "id": "ecedf1cd-af41-47fc-b0c7-7b68e5670bcb",
   "metadata": {},
   "outputs": [],
   "source": [
    "# list1.extend(mylist)\n",
    "# list1"
   ]
  },
  {
   "cell_type": "code",
   "execution_count": null,
   "id": "543c3747-3a7d-4919-a7fd-c22c9e665927",
   "metadata": {},
   "outputs": [],
   "source": [
    " mylist3 = [9,5,2,99,12,88,34]\n",
    "mylist3.sort()\n",
    "mylist3"
   ]
  },
  {
   "cell_type": "code",
   "execution_count": null,
   "id": "cbdfebb0-73df-4b25-8992-24e21e79cf74",
   "metadata": {},
   "outputs": [],
   "source": [
    "mylist3"
   ]
  },
  {
   "cell_type": "code",
   "execution_count": null,
   "id": "c4b74227-a977-49fd-9c87-d5f00f66f01a",
   "metadata": {},
   "outputs": [],
   "source": [
    "for i in mylist3:\n",
    "    print(i)"
   ]
  },
  {
   "cell_type": "code",
   "execution_count": null,
   "id": "046edbb2-9be0-4905-8866-4cc4e64bb49e",
   "metadata": {},
   "outputs": [],
   "source": [
    "8 in mylist3"
   ]
  },
  {
   "cell_type": "code",
   "execution_count": null,
   "id": "0e261cb1-c82e-496b-be0b-afd5c6c60861",
   "metadata": {},
   "outputs": [],
   "source": [
    "mylist.count('nine')"
   ]
  },
  {
   "cell_type": "code",
   "execution_count": null,
   "id": "91f7d838-e708-4340-8f2b-42911679d460",
   "metadata": {},
   "outputs": [],
   "source": [
    "name = 'ABHINANDAN'\n",
    "na = [i for i in name]\n",
    "na"
   ]
  },
  {
   "cell_type": "code",
   "execution_count": null,
   "id": "a1bb8b01-5f00-4855-a221-fdaa1c3c600e",
   "metadata": {},
   "outputs": [],
   "source": [
    "even = [i for i in range(0,31) if i%2==0]\n",
    "even"
   ]
  },
  {
   "cell_type": "code",
   "execution_count": null,
   "id": "bbedd72c-41d2-416b-977c-b216f87dc877",
   "metadata": {},
   "outputs": [],
   "source": [
    "odd = [i for i in range(30) if i%2==1]\n",
    "odd"
   ]
  },
  {
   "cell_type": "code",
   "execution_count": null,
   "id": "fdfabc06-1e19-4eb0-8c31-2107bba49dd7",
   "metadata": {},
   "outputs": [],
   "source": [
    "square = [i**2 for i in range(10) if i%2 == 0]\n",
    "square"
   ]
  },
  {
   "cell_type": "code",
   "execution_count": null,
   "id": "febef963-2d3f-4032-b673-88a95fb3fcf9",
   "metadata": {},
   "outputs": [],
   "source": [
    "mul_3_5 = [i for i in range(200) if (i%3==0) and (i%5==0)]\n",
    "mul_3_5"
   ]
  },
  {
   "cell_type": "code",
   "execution_count": null,
   "id": "9680f742-ede3-477c-b974-4767097f1d4d",
   "metadata": {},
   "outputs": [],
   "source": [
    " mystr = \"One 1 two 2 three 3 four 4 five 5 six 6789\"\n",
    "num = [i for i in mystr if i.isdigit()]\n",
    "num"
   ]
  },
  {
   "cell_type": "code",
   "execution_count": null,
   "id": "3e11f4dc-f540-41ff-adf8-3ff56953eff8",
   "metadata": {},
   "outputs": [],
   "source": [
    " mystr = \"One 1 two 2 three 3 four 4 five 5 six 6789\"\n",
    "alpha = [i for i in mystr if i.isalpha()]\n",
    "alpha[0:9]"
   ]
  },
  {
   "cell_type": "code",
   "execution_count": null,
   "id": "8508cc63-e7f8-4c7e-8afa-1edb6eb737fc",
   "metadata": {},
   "outputs": [],
   "source": [
    "mystr = \"One 1 two 2 three 3 four 4 five 5 six 6789\"\n",
    "for i in mystr:\n",
    "    if i.isalpha():\n",
    "        print(\"yes\")"
   ]
  },
  {
   "cell_type": "code",
   "execution_count": null,
   "id": "6c94a2b2-a82b-4d66-b5e5-747e5288d6f8",
   "metadata": {},
   "outputs": [],
   "source": [
    "tu = ['Asif', 25 ,[50, 100],[150, 90] , {'John' , 'David'} , [99,22,33]]\n",
    "tu[5][1]\n",
    "tu.index(25)"
   ]
  },
  {
   "cell_type": "code",
   "execution_count": null,
   "id": "fc6fbe8e-e535-42dd-b553-f5d686ca2e3d",
   "metadata": {},
   "outputs": [],
   "source": [
    "tup7 = ('Asif', 25 ,[50, 100],[150, 90] , {'John' , 'David'} , (99,22,33))\n"
   ]
  },
  {
   "cell_type": "code",
   "execution_count": null,
   "id": "93ea508d-15c0-47c0-bded-6d444a0e8321",
   "metadata": {},
   "outputs": [],
   "source": [
    "# princt max no. in the list\n",
    "l1=[4,6,2,8,1]\n",
    "l1.sort(reverse = True)\n",
    "print(l1[0])"
   ]
  },
  {
   "cell_type": "code",
   "execution_count": null,
   "id": "a09da466-5e81-4529-bb92-95996fcc5342",
   "metadata": {},
   "outputs": [],
   "source": [
    "#  Find the reverse of a number provided by the user(any number of digit)\n",
    "n = int(input(\"enter the number:\"))\n",
    "dig_list = list(map(int,str(n)))\n",
    "dig_list = dig_list[::-1]\n",
    "num = int(\"\".join(map(str,dig_list)))\n",
    "print(num)\n",
    "\n",
    "# n = int(input(\"enter the number:\"))\n",
    "# dig_list = map(int,str(n))\n",
    "# dig_list = dig_list[::-1]\n",
    "# num = int(\"\".join(map(int,dig_list)))\n",
    "# print(num)"
   ]
  },
  {
   "cell_type": "code",
   "execution_count": null,
   "id": "95ec4e44-690a-4cc4-9e6b-d6c5cbb2014c",
   "metadata": {},
   "outputs": [],
   "source": [
    "# find the number of digits in the given number.\n",
    "n = int(input(\"enter the number of digits in number\"))\n",
    "dig = list(map(int,str(n)))\n",
    "print(len(dig))"
   ]
  },
  {
   "cell_type": "code",
   "execution_count": null,
   "id": "9b44ccdd-d150-4b76-92cb-ec63c3206f2c",
   "metadata": {},
   "outputs": [],
   "source": [
    " l1=[1,2,3,3,3,4,4,5,6,7,8,9,9]\n",
    "l2 = []\n",
    "for i in l1:\n",
    "    if i not in l2:\n",
    "        l2.append(i)\n",
    "print(l2)"
   ]
  },
  {
   "cell_type": "code",
   "execution_count": null,
   "id": "f9ed852f-89e8-4e94-a35a-f5bc5768f101",
   "metadata": {},
   "outputs": [],
   "source": [
    "''''Write a program to add two lists index-wise. Create a new list that contains the 0th index item from both the\n",
    " list, then the 1st index item, and so on till the last element. any leftover items will get added at the end of the\n",
    " new list.\n",
    " list1 = [\"M\", \"na\", \"i\", \"Ke\"]\n",
    " list2 = [\"y\", \"me\", \"s\", \"lly\"]\n",
    " expected result:\n",
    " ['My', 'name', 'is', 'Kelly']'''\n",
    "list1 = [\"M\", \"na\", \"i\", \"Ke\"]\n",
    "list2 = [\"y\", \"me\", \"s\", \"lly\"]\n",
    "list3 = [i+j for i , j in zip(list1,list2)]\n",
    "print(list3)\n"
   ]
  },
  {
   "cell_type": "code",
   "execution_count": null,
   "id": "9db0b607-984f-4caf-900b-e8d4fc0d02bb",
   "metadata": {},
   "outputs": [],
   "source": [
    " #Turn every item of a list into its square Given a list of numbers. write a program to turn every item of a list into its square.\n",
    "numbers = [1, 2, 3, 4, 5, 6, 7]\n",
    "new = []\n",
    "for i in numbers:\n",
    "    n = pow(i,2)\n",
    "    new.append(n)\n",
    "print(new)\n",
    "    "
   ]
  },
  {
   "cell_type": "code",
   "execution_count": null,
   "id": "131fca33-7087-45ff-8d49-4eb54e031b14",
   "metadata": {},
   "outputs": [],
   "source": [
    "n=[pow(i,2) for i in range(1,4)]\n",
    "print(n)"
   ]
  },
  {
   "cell_type": "code",
   "execution_count": null,
   "id": "94e6332f-2a31-4824-af7e-df8e69b9943e",
   "metadata": {},
   "outputs": [],
   "source": [
    "#  Given a two Python list. Write a program to iterate both lists simultaneously and display items from list1 inoriginal order and items from list2 in reverse order.\n",
    "list1 = [10, 20, 30, 40]\n",
    "list2 = [100, 200, 300, 400]\n",
    "for x,y in zip(list1,list2[::-1]):\n",
    "    print(x,y)"
   ]
  },
  {
   "cell_type": "code",
   "execution_count": null,
   "id": "cb3151e6-88b7-452c-b95c-dc4d8575e0be",
   "metadata": {},
   "outputs": [],
   "source": [
    "# Concatenate two lists in the following order\n",
    "list1 = [\"Hello \", \"take \"]\n",
    "list2 = [\"Dear\", \"Sir\"]\n",
    " # Expected result:\n",
    " # ['Hello Dear', 'Hello Sir', 'take Dear', 'take Sir']\n",
    "for i in list1:\n",
    "    for j in list2:\n",
    "        print(i+\"*\"+j)"
   ]
  },
  {
   "cell_type": "code",
   "execution_count": null,
   "id": "1be8e9b0-297e-4f3e-9adc-f7ac2d3a5739",
   "metadata": {},
   "outputs": [],
   "source": [
    "result = [i+j for i in list1 for j in list2]\n",
    "print(result)"
   ]
  },
  {
   "cell_type": "code",
   "execution_count": null,
   "id": "853e36f9-aa25-43bd-a818-059edbedf1ce",
   "metadata": {},
   "outputs": [],
   "source": [
    "#  Remove empty strings from the list of strings\n",
    "list1 = [\"Mike\", \"\", \"Emma\", \"Kelly\", \"\", \"Brad\"]\n",
    "result = list(filter(lambda x : x != \"\",list1))\n",
    "print(result)"
   ]
  },
  {
   "cell_type": "code",
   "execution_count": null,
   "id": "c00984b8-082c-405c-af65-f84ea5330a39",
   "metadata": {},
   "outputs": [],
   "source": [
    "# Write a program to add item 7000 after 6000 in the following Python List\n",
    "list1 = [10, 20, [300, 400, [5000, 6000], 500], 30, 40]\n",
    "\n",
    "list1[2][2].append(7000)\n",
    "print(list1)\n"
   ]
  },
  {
   "cell_type": "code",
   "execution_count": null,
   "id": "6759ffb4-3ca2-4194-ad1c-bf3a538aef84",
   "metadata": {},
   "outputs": [],
   "source": [
    "'''Replace list’s item with new value if found\n",
    " You have given a Python list. Write a program to find value 20 in the list, and if it is present, replace it with\n",
    " 200. Only update the first occurrence of an item.\n",
    " list1 = [5, 10, 15, 20, 25, 50, 20]\n",
    " Expected output: [5, 10, 15, 200, 25, 50, 20'''\n",
    "list1 = [5, 10, 15, 20, 25, 50, 20]\n",
    "list1[2] = 90\n",
    "x = list1.index(20)\n",
    "list1[x] = 2000\n",
    "print(list1)"
   ]
  },
  {
   "cell_type": "code",
   "execution_count": null,
   "id": "12b41620-cabc-4b1c-b1c9-59ad29a25369",
   "metadata": {},
   "outputs": [],
   "source": [
    "# Given a Python list, write a program to remove all occurrences of item 20.\n",
    "list1 = [5, 20, 15, 20, 25, 50, 20]\n",
    "while 20 in list1:\n",
    "    list1.remove(20)\n",
    "print(list1)"
   ]
  },
  {
   "cell_type": "markdown",
   "id": "ff939452-1c85-49f7-8a17-19d224cff76a",
   "metadata": {},
   "source": [
    "## Set"
   ]
  },
  {
   "cell_type": "code",
   "execution_count": null,
   "id": "db39138e-fe26-4f16-9bb7-96c69e5ec5a1",
   "metadata": {},
   "outputs": [],
   "source": [
    "set1 = {2,4,5,5,6,5,7}\n",
    "set1"
   ]
  },
  {
   "cell_type": "code",
   "execution_count": null,
   "id": "8d684a01-cfaf-477b-bc1e-24905cd7de8a",
   "metadata": {},
   "outputs": [],
   "source": [
    "set2 = set((2,4,5,5,6,5,7))\n",
    "set2\n",
    "for i in enumerate(set2):\n",
    " print(i)"
   ]
  },
  {
   "cell_type": "markdown",
   "id": "7fba31d7-0023-42cc-a698-1df8dc7a8de9",
   "metadata": {},
   "source": [
    "# String"
   ]
  },
  {
   "cell_type": "code",
   "execution_count": 14,
   "id": "da168425-cf0e-4203-8a83-307d43e0cb50",
   "metadata": {},
   "outputs": [
    {
     "name": "stdout",
     "output_type": "stream",
     "text": [
      "HELLO PYTHONHELLO PYTHON\n"
     ]
    }
   ],
   "source": [
    "str1 = 'HELLO PYTHON'\n",
    "print(str1*2)"
   ]
  },
  {
   "cell_type": "code",
   "execution_count": 15,
   "id": "70ff6d16-16ef-4386-9cd6-70fdc8412412",
   "metadata": {},
   "outputs": [
    {
     "data": {
      "text/plain": [
       "'N'"
      ]
     },
     "execution_count": 15,
     "metadata": {},
     "output_type": "execute_result"
    }
   ],
   "source": [
    "str1[len(str1)-1]"
   ]
  },
  {
   "cell_type": "code",
   "execution_count": 16,
   "id": "1bc08ed5-ff24-46c2-a1e6-7bd10c29c7d9",
   "metadata": {
    "scrolled": true
   },
   "outputs": [
    {
     "ename": "TypeError",
     "evalue": "'str' object does not support item assignment",
     "output_type": "error",
     "traceback": [
      "\u001b[1;31m---------------------------------------------------------------------------\u001b[0m",
      "\u001b[1;31mTypeError\u001b[0m                                 Traceback (most recent call last)",
      "Cell \u001b[1;32mIn[16], line 1\u001b[0m\n\u001b[1;32m----> 1\u001b[0m str1[\u001b[38;5;241m-\u001b[39m\u001b[38;5;241m4\u001b[39m:\u001b[38;5;241m-\u001b[39m\u001b[38;5;241m1\u001b[39m]\u001b[38;5;241m=\u001b[39m\u001b[38;5;124m'\u001b[39m\u001b[38;5;124mgee\u001b[39m\u001b[38;5;124m'\u001b[39m\n",
      "\u001b[1;31mTypeError\u001b[0m: 'str' object does not support item assignment"
     ]
    }
   ],
   "source": [
    "str1[-4:-1]='gee'"
   ]
  },
  {
   "cell_type": "code",
   "execution_count": null,
   "id": "5ab7486b-249d-4164-accd-90696742c6b0",
   "metadata": {},
   "outputs": [],
   "source": [
    "str2 = 'for you'\n",
    "str3 = str1 +\" \"+ str2\n",
    "print(str3)"
   ]
  },
  {
   "cell_type": "code",
   "execution_count": null,
   "id": "af1f3190-e12f-4bcf-b5ca-391fc0265f75",
   "metadata": {
    "scrolled": true
   },
   "outputs": [],
   "source": [
    "for i in enumerate (str3):\n",
    "    print(i)"
   ]
  },
  {
   "cell_type": "code",
   "execution_count": null,
   "id": "c10b344f-61e7-4c65-83f0-6604c6742d74",
   "metadata": {},
   "outputs": [],
   "source": [
    " str5 = \"Natural language processing with Python and R and Java\"\n",
    " L = str5.rpartition(\"and\") \n",
    "print(L)"
   ]
  },
  {
   "cell_type": "code",
   "execution_count": null,
   "id": "289ff2e0-77d6-4577-a052-6bbf58b034c9",
   "metadata": {},
   "outputs": [],
   "source": [
    " str5 = \"Natural language processing with Python and R and Java\"\n",
    " L = str5.partition(\"and\") \n",
    "print(L)"
   ]
  },
  {
   "cell_type": "code",
   "execution_count": null,
   "id": "c10ddc10-3684-4f3d-af96-3127cc7f645f",
   "metadata": {},
   "outputs": [],
   "source": [
    "mystr2 = '  Hello Everyone  '\n",
    "mystr2.replace(\"He\",\"HK\")"
   ]
  },
  {
   "cell_type": "code",
   "execution_count": null,
   "id": "c19cf69b-73f7-46e8-b2df-29d6759c2650",
   "metadata": {},
   "outputs": [],
   "source": [
    " item1 = 40\n",
    " item2 = 55\n",
    " item3 = 77\n",
    " res = \"Cost of item1 , item2 and item3 are {} , {} and {}\"\n",
    "print(\"Cost of item1 , item2 and item3 are {} , {} and {}\".format(item1,item2,item3))\n",
    "print(f\"Cost of item1 , item2 and item3 are {item1} , {item2} and {item3}\")\n",
    "print(res.format(item1,item2,item3))"
   ]
  },
  {
   "cell_type": "code",
   "execution_count": null,
   "id": "1e6c6f82-82c7-4927-90f9-a393c982b667",
   "metadata": {},
   "outputs": [],
   "source": [
    "mystr2 = '  Hello Everyone  '\n",
    "print(mystr2*2)\n",
    "print(len(mystr2))"
   ]
  },
  {
   "cell_type": "markdown",
   "id": "1774f6c7-b87c-4bce-ac0a-90764a1dec05",
   "metadata": {},
   "source": [
    "## String Indexing"
   ]
  },
  {
   "cell_type": "code",
   "execution_count": 82,
   "id": "37be41ba-9a5e-4ba1-86ca-e3e1beb8d615",
   "metadata": {},
   "outputs": [
    {
     "data": {
      "text/plain": [
       "'ural '"
      ]
     },
     "execution_count": 82,
     "metadata": {},
     "output_type": "execute_result"
    }
   ],
   "source": [
    "str5 = \"Natural language processing with Python and R and Java\"\n",
    "str5[3:8]"
   ]
  },
  {
   "cell_type": "code",
   "execution_count": 88,
   "id": "443651b9-fd9a-4ab0-b5f8-8f41f8cee05c",
   "metadata": {},
   "outputs": [
    {
     "data": {
      "text/plain": [
       "'a'"
      ]
     },
     "execution_count": 88,
     "metadata": {},
     "output_type": "execute_result"
    }
   ],
   "source": [
    "# Last character in string using len function\n",
    "str5[len(str5)-1]\n",
    "str5[-1]"
   ]
  },
  {
   "cell_type": "code",
   "execution_count": 90,
   "id": "5f403da8-0e6f-447d-bd4b-708df1206577",
   "metadata": {},
   "outputs": [
    {
     "data": {
      "text/plain": [
       "'l'"
      ]
     },
     "execution_count": 90,
     "metadata": {},
     "output_type": "execute_result"
    }
   ],
   "source": [
    " #Fetch 7th element of the string\n",
    "str5[6]"
   ]
  },
  {
   "cell_type": "code",
   "execution_count": 96,
   "id": "bb69a929-4345-4f75-84af-eade0aabf063",
   "metadata": {},
   "outputs": [
    {
     "data": {
      "text/plain": [
       "'Natural language processing with Python and R and '"
      ]
     },
     "execution_count": 96,
     "metadata": {},
     "output_type": "execute_result"
    }
   ],
   "source": [
    " # Retreive last four characters of the string\n",
    "str5[-4:]\n",
    "str5[:-4]"
   ]
  },
  {
   "cell_type": "code",
   "execution_count": 102,
   "id": "4f557000-b7e7-4fc5-bad4-300382f651c3",
   "metadata": {},
   "outputs": [
    {
     "data": {
      "text/plain": [
       "'Natu'"
      ]
     },
     "execution_count": 102,
     "metadata": {},
     "output_type": "execute_result"
    }
   ],
   "source": [
    " # Retreive last six characters of the string\n",
    "str5[-6:]\n",
    " # Retreive first four characters of the strin\n",
    "str5[:4]"
   ]
  },
  {
   "cell_type": "code",
   "execution_count": null,
   "id": "706c2cdf-9918-447a-95ce-b8ffbb7080be",
   "metadata": {},
   "outputs": [],
   "source": [
    "del str1 # Delete a string\n",
    " print(srt1)"
   ]
  },
  {
   "cell_type": "code",
   "execution_count": null,
   "id": "62c852ae-0ec2-4139-85d6-966826efca1b",
   "metadata": {},
   "outputs": [],
   "source": [
    " # String concatenation\n",
    " s1 = \"Hello\"\n",
    " s2 = \"Asif\"\n",
    " s3 = s1 + \" \" + s2\n",
    " print(s3)"
   ]
  },
  {
   "cell_type": "markdown",
   "id": "79ea697d-43ec-4d62-8b57-9cd3a14a88b6",
   "metadata": {},
   "source": [
    "## Iterating through a String"
   ]
  },
  {
   "cell_type": "code",
   "execution_count": 106,
   "id": "755bd023-7639-41ba-be8a-387f18ec5631",
   "metadata": {},
   "outputs": [
    {
     "name": "stdout",
     "output_type": "stream",
     "text": [
      "H e l l o   E v e r y o n e "
     ]
    }
   ],
   "source": [
    "mystr1 = \"Hello Everyone\"\n",
    "for i in mystr1:\n",
    "    print(i,end=\" \")"
   ]
  },
  {
   "cell_type": "code",
   "execution_count": 108,
   "id": "30ec7935-5f33-4ad3-95dd-adbb5eff7d8a",
   "metadata": {},
   "outputs": [
    {
     "name": "stdout",
     "output_type": "stream",
     "text": [
      "(0, 'H')\n",
      "(1, 'e')\n",
      "(2, 'l')\n",
      "(3, 'l')\n",
      "(4, 'o')\n",
      "(5, ' ')\n",
      "(6, 'E')\n",
      "(7, 'v')\n",
      "(8, 'e')\n",
      "(9, 'r')\n",
      "(10, 'y')\n",
      "(11, 'o')\n",
      "(12, 'n')\n",
      "(13, 'e')\n"
     ]
    }
   ],
   "source": [
    "for i in enumerate(mystr1):\n",
    " print(i)"
   ]
  },
  {
   "cell_type": "markdown",
   "id": "4f45a43d-3a95-4955-88e7-10ac159acac5",
   "metadata": {},
   "source": [
    "## String Partitioning\r\n",
    " \"\"\"\r\n",
    " The partition() method searches for a specified string and splits the string into\r\n",
    " - The first element contains the part before the argument string.\r\n",
    " - The second element contains the argument string.\r\n",
    " - The third element contains the part after the argument st\"\"\"ring."
   ]
  },
  {
   "cell_type": "code",
   "execution_count": 110,
   "id": "3e3eb16e-6c94-4642-bbc4-62236b23a40d",
   "metadata": {},
   "outputs": [
    {
     "data": {
      "text/plain": [
       "('Natural language processing ', 'with', ' Python and R and Java')"
      ]
     },
     "execution_count": 110,
     "metadata": {},
     "output_type": "execute_result"
    }
   ],
   "source": [
    "str5 = \"Natural language processing with Python and R and Java\"\n",
    "str5.partition('with')"
   ]
  },
  {
   "cell_type": "code",
   "execution_count": 116,
   "id": "a0db3371-72c3-4c06-aaa4-8f2d2c4b5304",
   "metadata": {},
   "outputs": [
    {
     "ename": "AttributeError",
     "evalue": "'str' object has no attribute 'lpartition'",
     "output_type": "error",
     "traceback": [
      "\u001b[1;31m---------------------------------------------------------------------------\u001b[0m",
      "\u001b[1;31mAttributeError\u001b[0m                            Traceback (most recent call last)",
      "Cell \u001b[1;32mIn[116], line 3\u001b[0m\n\u001b[0;32m      1\u001b[0m \u001b[38;5;66;03m# The rpartition() method searches for the last occurence of the specified string containing three elements.\u001b[39;00m\n\u001b[0;32m      2\u001b[0m str5\u001b[38;5;241m.\u001b[39mrpartition(\u001b[38;5;124m'\u001b[39m\u001b[38;5;124ml\u001b[39m\u001b[38;5;124m'\u001b[39m)\n\u001b[1;32m----> 3\u001b[0m str5\u001b[38;5;241m.\u001b[39mlpartition(\u001b[38;5;124m'\u001b[39m\u001b[38;5;124ma\u001b[39m\u001b[38;5;124m'\u001b[39m)\n",
      "\u001b[1;31mAttributeError\u001b[0m: 'str' object has no attribute 'lpartition'"
     ]
    }
   ],
   "source": [
    "# The rpartition() method searches for the last occurence of the specified string containing three elements.\n",
    "str5.rpartition('l')\n",
    "str5.lpartition('a')"
   ]
  },
  {
   "cell_type": "code",
   "execution_count": 120,
   "id": "e984b61c-3d70-4556-8832-a0f9d05ddd98",
   "metadata": {},
   "outputs": [
    {
     "data": {
      "text/plain": [
       "'Hello Everyone***********All the Best'"
      ]
     },
     "execution_count": 120,
     "metadata": {},
     "output_type": "execute_result"
    }
   ],
   "source": [
    " mystr2 = \"*********Hello Everyone***********All the Best**********\"\n",
    " mystr2.strip('*')"
   ]
  },
  {
   "cell_type": "code",
   "execution_count": 122,
   "id": "ae2b1f9b-43c3-486f-ae0e-04bbff8b1e57",
   "metadata": {},
   "outputs": [
    {
     "data": {
      "text/plain": [
       "'*********Hello Everyone***********All the Best'"
      ]
     },
     "execution_count": 122,
     "metadata": {},
     "output_type": "execute_result"
    }
   ],
   "source": [
    "mystr2 = \"*********Hello Everyone***********All the Best**********\"\n",
    "mystr2.rstrip('*')"
   ]
  },
  {
   "cell_type": "code",
   "execution_count": null,
   "id": "1588f690-2f26-423e-817d-4ac53db981e9",
   "metadata": {},
   "outputs": [],
   "source": [
    "mystr2.replace(\"He\" , \"Ho\") #Replace substring \"He\" with \"Ho\""
   ]
  },
  {
   "cell_type": "code",
   "execution_count": 126,
   "id": "0b2f79bc-cbe4-4201-9775-cbd07e27087b",
   "metadata": {},
   "outputs": [
    {
     "data": {
      "text/plain": [
       "True"
      ]
     },
     "execution_count": 126,
     "metadata": {},
     "output_type": "execute_result"
    }
   ],
   "source": [
    "mystr5 = \"one two Three one two two three\"\n",
    "mystr5.count('two')\n",
    "mystr5.startswith('one')"
   ]
  },
  {
   "cell_type": "code",
   "execution_count": 134,
   "id": "c674ae36-d288-4584-8174-7b299da694be",
   "metadata": {},
   "outputs": [
    {
     "name": "stdout",
     "output_type": "stream",
     "text": [
      "8\n"
     ]
    }
   ],
   "source": [
    "mystr5.split()\n",
    "loc = mystr5.find('Three')\n",
    "print(loc)"
   ]
  },
  {
   "cell_type": "code",
   "execution_count": 138,
   "id": "d18e5c28-773d-42b9-bb56-609a4ef19181",
   "metadata": {},
   "outputs": [
    {
     "name": "stdout",
     "output_type": "stream",
     "text": [
      "8\n"
     ]
    }
   ],
   "source": [
    "loc = mystr5.index('Three')\n",
    "print(loc)"
   ]
  },
  {
   "cell_type": "code",
   "execution_count": 146,
   "id": "771610d7-7cba-48cb-a80f-c083f2b9d501",
   "metadata": {},
   "outputs": [
    {
     "ename": "ValueError",
     "evalue": "substring not found",
     "output_type": "error",
     "traceback": [
      "\u001b[1;31m---------------------------------------------------------------------------\u001b[0m",
      "\u001b[1;31mValueError\u001b[0m                                Traceback (most recent call last)",
      "Cell \u001b[1;32mIn[146], line 3\u001b[0m\n\u001b[0;32m      1\u001b[0m \u001b[38;5;66;03m# loc = str5.rfind(\"one\") # last occurrence of word 'one' in string \"str6\"\u001b[39;00m\n\u001b[0;32m      2\u001b[0m \u001b[38;5;66;03m# print(loc)\u001b[39;00m\n\u001b[1;32m----> 3\u001b[0m loc \u001b[38;5;241m=\u001b[39m str5\u001b[38;5;241m.\u001b[39mrindex(\u001b[38;5;124m\"\u001b[39m\u001b[38;5;124mone\u001b[39m\u001b[38;5;124m\"\u001b[39m)\n\u001b[0;32m      4\u001b[0m \u001b[38;5;28mprint\u001b[39m(loc)\n",
      "\u001b[1;31mValueError\u001b[0m: substring not found"
     ]
    }
   ],
   "source": [
    "# loc = str5.rfind(\"one\") # last occurrence of word 'one' in string \"str6\"\n",
    "# print(loc)\n",
    "loc = str5.rindex(\"one\")\n",
    "print(loc)"
   ]
  },
  {
   "cell_type": "code",
   "execution_count": 148,
   "id": "7b08eb1f-83ac-48fb-aebe-5e81856bcd08",
   "metadata": {},
   "outputs": [
    {
     "name": "stdout",
     "output_type": "stream",
     "text": [
      "My favourite series is \"Game of Thrones\"\n"
     ]
    }
   ],
   "source": [
    "#Using escape character to allow illegal characters\n",
    "mystr5 = \"My favourite series is \\\"Game of Thrones\\\"\"\n",
    "print(mystr5)"
   ]
  },
  {
   "cell_type": "markdown",
   "id": "eed2f8b9-1abf-4816-ad86-d57081ac63ee",
   "metadata": {},
   "source": [
    "# Dictionary\n",
    "\n",
    "my_dict = dict({1:'one' , 2:'two' , 'A':{'Name':'asif' , 'Age' :20}})"
   ]
  },
  {
   "cell_type": "code",
   "execution_count": null,
   "id": "e30c5cb4-7a9e-4f65-86f4-379c50c6f1e6",
   "metadata": {},
   "outputs": [],
   "source": [
    "my_dict = dict({1:'one' , 2:'two' , 'A':{'Name':'asif' , 'Age' :20}})\n",
    "my_dict"
   ]
  },
  {
   "cell_type": "code",
   "execution_count": 164,
   "id": "6f763977-cb68-48d6-837b-5d231eba0175",
   "metadata": {},
   "outputs": [],
   "source": [
    "mydict = {1:'one' , 2:'two' , 3:}"
   ]
  },
  {
   "cell_type": "code",
   "execution_count": null,
   "id": "d4b0376e-401a-4f06-862f-100adda59c1d",
   "metadata": {},
   "outputs": [],
   "source": []
  },
  {
   "cell_type": "code",
   "execution_count": 166,
   "id": "3954e187-7b3d-4f73-a67c-416b5dff0164",
   "metadata": {},
   "outputs": [
    {
     "data": {
      "text/plain": [
       "dict_keys([1, 2, 3])"
      ]
     },
     "execution_count": 166,
     "metadata": {},
     "output_type": "execute_result"
    }
   ],
   "source": [
    "mydict.keys()"
   ]
  },
  {
   "cell_type": "code",
   "execution_count": 168,
   "id": "8e1405e7-a2f3-4742-8fcb-ba7ab2e3dff0",
   "metadata": {},
   "outputs": [
    {
     "data": {
      "text/plain": [
       "dict_values(['one', 'two', 'Three'])"
      ]
     },
     "execution_count": 168,
     "metadata": {},
     "output_type": "execute_result"
    }
   ],
   "source": [
    "mydict.values()"
   ]
  },
  {
   "cell_type": "code",
   "execution_count": 170,
   "id": "fe6f2cfb-34b1-46d1-9e7c-3c6791485830",
   "metadata": {},
   "outputs": [
    {
     "data": {
      "text/plain": [
       "dict_items([(1, 'one'), (2, 'two'), (3, 'Three')])"
      ]
     },
     "execution_count": 170,
     "metadata": {},
     "output_type": "execute_result"
    }
   ],
   "source": [
    "mydict.items()"
   ]
  },
  {
   "cell_type": "code",
   "execution_count": 154,
   "id": "e3745310-3a50-4f1b-a6ae-c82bc6fbe43d",
   "metadata": {},
   "outputs": [
    {
     "name": "stdout",
     "output_type": "stream",
     "text": [
      "{}\n"
     ]
    }
   ],
   "source": [
    "my_dict = dict()\n",
    "print(my_dict)\n",
    "my_dict = {}"
   ]
  },
  {
   "cell_type": "code",
   "execution_count": 190,
   "id": "218d0593-27a1-4124-8329-6e6b5f85f390",
   "metadata": {},
   "outputs": [
    {
     "data": {
      "text/plain": [
       "'one'"
      ]
     },
     "execution_count": 190,
     "metadata": {},
     "output_type": "execute_result"
    }
   ],
   "source": [
    "mydict.get(1)\n",
    "mydict[1]"
   ]
  },
  {
   "cell_type": "code",
   "execution_count": 176,
   "id": "8b46de64-4522-4085-a736-0758d5bd1e6e",
   "metadata": {},
   "outputs": [],
   "source": [
    "keys = {'a' , 'b' , 'c' , 'd'}\n",
    "value = ['10','20','30']\n",
    "my_dict2 = dict.fromkeys(keys,value)\n",
    "value.append(40)"
   ]
  },
  {
   "cell_type": "code",
   "execution_count": 184,
   "id": "672b96b1-5578-4a6f-bfe4-c193986f0755",
   "metadata": {
    "scrolled": true
   },
   "outputs": [
    {
     "data": {
      "text/plain": [
       "{'c': ['10', '20', '30', 40],\n",
       " 'd': ['10', '20', '30', 40],\n",
       " 'a': ['10', '20', '30', 40],\n",
       " 'b': ['10', '20', '30', 40]}"
      ]
     },
     "execution_count": 184,
     "metadata": {},
     "output_type": "execute_result"
    }
   ],
   "source": [
    "my_dict2"
   ]
  },
  {
   "cell_type": "code",
   "execution_count": 194,
   "id": "c533aaff-7e39-4dce-a9d3-363918543940",
   "metadata": {},
   "outputs": [
    {
     "name": "stdout",
     "output_type": "stream",
     "text": [
      "{1: 2, 2: 4, 3: 6, 4: 8, 5: 10, 6: 12, 7: 14, 8: 16, 9: 18}\n"
     ]
    }
   ],
   "source": [
    "##  Dictionary Comprehension\n",
    "double = {i:i*2 for i in range(1,10)}\n",
    "print(double)"
   ]
  },
  {
   "cell_type": "code",
   "execution_count": 196,
   "id": "05f0c3c6-b0f3-4335-a538-db002ba98dce",
   "metadata": {},
   "outputs": [
    {
     "name": "stdout",
     "output_type": "stream",
     "text": [
      "{1: 1, 2: 4, 3: 9, 4: 16, 5: 25, 6: 36, 7: 49, 8: 64, 9: 81}\n"
     ]
    }
   ],
   "source": [
    "square = {i:i**2 for i in range(1,10)}\n",
    "print(square)"
   ]
  },
  {
   "cell_type": "code",
   "execution_count": 200,
   "id": "69d78047-8e90-4f9c-8528-d2ca7448bc84",
   "metadata": {},
   "outputs": [],
   "source": [
    "key = ['one' , 'two' , 'three' , 'four' , 'five']\n",
    "value = [1,2,3,4,5]\n",
    "my_dict2 = {k:v for (k,v) in zip(key,value)}"
   ]
  },
  {
   "cell_type": "code",
   "execution_count": 204,
   "id": "d03f1c7b-498f-477c-927c-146902c99e0d",
   "metadata": {},
   "outputs": [
    {
     "data": {
      "text/plain": [
       "{'a': 'A',\n",
       " 'b': 'B',\n",
       " 'c': 'C',\n",
       " 'd': 'D',\n",
       " 'e': 'E',\n",
       " 'f': 'F',\n",
       " 'g': 'G',\n",
       " 'h': 'H',\n",
       " 'i': 'I',\n",
       " 'j': 'J',\n",
       " 'k': 'K',\n",
       " 'l': 'L',\n",
       " 'm': 'M',\n",
       " 'n': 'N',\n",
       " 'o': 'O',\n",
       " 'p': 'P',\n",
       " 'q': 'Q',\n",
       " 'r': 'R',\n",
       " 's': 'S',\n",
       " 't': 'T',\n",
       " 'u': 'U',\n",
       " 'v': 'V',\n",
       " 'w': 'W',\n",
       " 'x': 'X',\n",
       " 'y': 'Y',\n",
       " 'z': 'Z'}"
      ]
     },
     "execution_count": 204,
     "metadata": {},
     "output_type": "execute_result"
    }
   ],
   "source": [
    "str1 = \"abcdefghijklmnopqrstuvwxyz\"\n",
    "mydict3 = {i:i.upper() for i in str1} # Lower to Upper Case\n",
    "mydict3"
   ]
  },
  {
   "cell_type": "code",
   "execution_count": null,
   "id": "252bca39-9f7c-4957-8813-90e06fe731ac",
   "metadata": {},
   "outputs": [],
   "source": [
    "str1 = \"Natural Language Processing\"\n",
    "mydict2 = {k:v for (k,v) in enumerate(str1)} # Store enumerated values in a dicti\n",
    "mydict2"
   ]
  }
 ],
 "metadata": {
  "kernelspec": {
   "display_name": "Python 3 (ipykernel)",
   "language": "python",
   "name": "python3"
  },
  "language_info": {
   "codemirror_mode": {
    "name": "ipython",
    "version": 3
   },
   "file_extension": ".py",
   "mimetype": "text/x-python",
   "name": "python",
   "nbconvert_exporter": "python",
   "pygments_lexer": "ipython3",
   "version": "3.11.7"
  }
 },
 "nbformat": 4,
 "nbformat_minor": 5
}
