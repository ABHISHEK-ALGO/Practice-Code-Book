{
 "cells": [
  {
   "cell_type": "code",
   "execution_count": 23,
   "id": "39f784e0",
   "metadata": {
    "scrolled": true
   },
   "outputs": [
    {
     "name": "stdout",
     "output_type": "stream",
     "text": [
      "enter the size of the array:5\n",
      "enter the element  at 0 index:3\n",
      "enter the element  at 1 index:4\n",
      "enter the element  at 2 index:1\n",
      "enter the element  at 3 index:7\n",
      "enter the element  at 4 index:9\n",
      "Sorted even array: [3, 1, 9]\n",
      "sorted odd array: [4, 7]\n",
      "the required sum is given as : 7\n"
     ]
    }
   ],
   "source": [
    "## Soriing array question\n",
    "\n",
    "# create 3 arrays\n",
    "\n",
    "array = []\n",
    "even_array = []\n",
    "odd_array = []\n",
    "\n",
    "# take the input elements in the array\n",
    "\n",
    "n = int(input(\"enter the size of the array:\"))\n",
    "\n",
    "# appent the array with elements \n",
    "\n",
    "for i in range(0,n):\n",
    "    number = int(input(\"enter the element  at {} index:\".format(i)))\n",
    "    array.append(number)\n",
    "    if i % 2 ==0:\n",
    "        even_array.append(array[i])\n",
    "    else:\n",
    "        odd_array.append(array[i])\n",
    "        \n",
    "# print sort array\n",
    "\n",
    "even_arr = sorted(even_array)\n",
    "print(\"Sorted even array:\", even_array[0:len(even_array)])\n",
    "\n",
    "odd_arr = sorted(odd_array)\n",
    "print(\"sorted odd array:\", odd_array[0:len(odd_array)])\n",
    "\n",
    "# addition of the second largest numver\n",
    "print(\"the required sum is given as :\", even_arr[-2] + odd_arr[-2])"
   ]
  },
  {
   "cell_type": "code",
   "execution_count": 10,
   "id": "6db9635a-93d5-4eaf-9890-3184fc82b5b9",
   "metadata": {},
   "outputs": [
    {
     "name": "stdout",
     "output_type": "stream",
     "text": [
      "[code1 d2a1d19] sliding window\n",
      " 1 file changed, 28 insertions(+)\n"
     ]
    }
   ],
   "source": [
    "!git commit -m\"sliding window\""
   ]
  },
  {
   "cell_type": "code",
   "execution_count": null,
   "id": "3dbd48bd",
   "metadata": {},
   "outputs": [],
   "source": [
    "# otp generation from odd numbers\n",
    "\n",
    "given_num = input(\"enter the number:\")\n",
    "length_num = len(given_num)\n",
    "otp = \"\"\n",
    "for i in range (1,length_num,2):\n",
    "    odd = int(given_num[i])\n",
    "    odd = odd**2\n",
    "    otp+=str(odd)\n",
    "    \n",
    "print(otp[0:4])"
   ]
  },
  {
   "cell_type": "code",
   "execution_count": 5,
   "id": "e672182b-de37-4cca-99d4-53b049818c2b",
   "metadata": {},
   "outputs": [
    {
     "name": "stdout",
     "output_type": "stream",
     "text": [
      "[8, 3, 6, 7]\n"
     ]
    }
   ],
   "source": [
    "def intersection(x,y):\n",
    "    return list(set(x)&set(y))\n",
    "\n",
    "x = [2,3,5,6,5,5,7,8]\n",
    "y = [4,6,8,3,6,7]\n",
    "\n",
    "df = intersection(x,y)\n",
    "print(df)"
   ]
  },
  {
   "cell_type": "code",
   "execution_count": 7,
   "id": "57bd2759-df21-4f85-8c2c-4649c45e25f6",
   "metadata": {},
   "outputs": [
    {
     "data": {
      "text/plain": [
       "[5]"
      ]
     },
     "execution_count": 7,
     "metadata": {},
     "output_type": "execute_result"
    }
   ],
   "source": [
    "# to find duplicates in the array\n",
    "def duplicates(arr):\n",
    "    seen = set()\n",
    "    duplicates = set()\n",
    "    for num in arr:\n",
    "        if num in seen:\n",
    "            duplicates.add(num)\n",
    "        else:\n",
    "            seen.add(num)\n",
    "    return list(duplicates)\n",
    "\n",
    "arr = [4,5,5,3,6,8,42,5]\n",
    "duplicates(arr)"
   ]
  },
  {
   "cell_type": "code",
   "execution_count": 1,
   "id": "e6e0c6f0-62d7-4de2-8723-410167a47aac",
   "metadata": {},
   "outputs": [
    {
     "name": "stdout",
     "output_type": "stream",
     "text": [
      "1\n",
      "fizz\n",
      "buzz\n",
      "fizz\n",
      "5\n",
      "fizzbuzz\n",
      "7\n",
      "fizz\n",
      "buzz\n",
      "fizz\n",
      "11\n",
      "fizzbuzz\n",
      "13\n",
      "fizz\n",
      "buzz\n",
      "fizz\n",
      "17\n",
      "fizzbuzz\n",
      "19\n",
      "fizz\n",
      "buzz\n",
      "fizz\n",
      "23\n",
      "fizzbuzz\n",
      "25\n",
      "fizz\n",
      "buzz\n",
      "fizz\n",
      "29\n",
      "fizzbuzz\n",
      "31\n",
      "fizz\n",
      "buzz\n",
      "fizz\n",
      "35\n",
      "fizzbuzz\n",
      "37\n",
      "fizz\n",
      "buzz\n",
      "fizz\n",
      "41\n",
      "fizzbuzz\n",
      "43\n",
      "fizz\n",
      "buzz\n",
      "fizz\n",
      "47\n",
      "fizzbuzz\n",
      "49\n",
      "fizz\n"
     ]
    }
   ],
   "source": [
    "# fizz buzz and fizzbuzz\n",
    "\n",
    "for i in range (1,51):\n",
    "    if i%2==0 and i%3==0:\n",
    "        print(\"fizzbuzz\")\n",
    "    elif i%2==0:\n",
    "        print(\"fizz\")\n",
    "    elif i%3==0:\n",
    "        print(\"buzz\")\n",
    "    else:\n",
    "        print(i)"
   ]
  },
  {
   "cell_type": "code",
   "execution_count": 6,
   "id": "c9461e25-e19f-4a29-8047-b3ec7b2e7a07",
   "metadata": {},
   "outputs": [],
   "source": [
    "# palindrome with converting to string\n",
    "\n",
    "def palindrome(num):\n",
    "    s = str(num)\n",
    "    rev = s[::-1]\n",
    "    if (s==rev):\n",
    "        return True\n",
    "    else:\n",
    "        return False\n",
    "    "
   ]
  },
  {
   "cell_type": "code",
   "execution_count": 8,
   "id": "d98bc93c-aa30-4e9b-a9df-f70a50172a85",
   "metadata": {},
   "outputs": [
    {
     "data": {
      "text/plain": [
       "False"
      ]
     },
     "execution_count": 8,
     "metadata": {},
     "output_type": "execute_result"
    }
   ],
   "source": [
    "# palindrome without converting to string\n",
    "\n",
    "def palindrome(x):\n",
    "    if (x<0 or (x%10==0 & x!=0):\n",
    "        return False\n",
    "    rev = 0\n",
    "    while (x>rev):\n",
    "        last_dig = x%10\n",
    "        rev = rev*10+last_dig\n",
    "        x = x//10\n",
    "\n",
    "    if (x == rev or x==rev//10):\n",
    "        return True\n",
    "        "
   ]
  },
  {
   "cell_type": "code",
   "execution_count": 6,
   "id": "a3e1304a-bf12-4f70-a73b-7b83902469f8",
   "metadata": {},
   "outputs": [],
   "source": [
    "# factorial of n using recursion \n",
    "def factorial_recursion(n):\n",
    "    if n==0 or n==1:\n",
    "        return 1 \n",
    "    return n * factorial_recursion(n-1)"
   ]
  },
  {
   "cell_type": "code",
   "execution_count": 8,
   "id": "0d55ea6e-893d-443c-a3b1-94d588e1e1b4",
   "metadata": {},
   "outputs": [
    {
     "data": {
      "text/plain": [
       "120"
      ]
     },
     "execution_count": 8,
     "metadata": {},
     "output_type": "execute_result"
    }
   ],
   "source": [
    "factorial_recursion(5)"
   ]
  },
  {
   "cell_type": "code",
   "execution_count": 14,
   "id": "55a50bac-554e-4d17-af94-0c97b6e0a9e6",
   "metadata": {},
   "outputs": [],
   "source": [
    "# foactorial of n using iterative\n",
    "def factorial_iterative(n):\n",
    "    result = 1\n",
    "    for i in range(1,n+1):\n",
    "        result*=i\n",
    "    return result"
   ]
  },
  {
   "cell_type": "code",
   "execution_count": 18,
   "id": "5fecf60e-ac3a-4aca-ba2a-7cfdeb17c08d",
   "metadata": {},
   "outputs": [
    {
     "name": "stdout",
     "output_type": "stream",
     "text": [
      "120\n"
     ]
    }
   ],
   "source": [
    "print(factorial_iterative(5))"
   ]
  },
  {
   "cell_type": "code",
   "execution_count": 29,
   "id": "9d30b17e-4584-45c2-b82e-43816055e8df",
   "metadata": {},
   "outputs": [],
   "source": [
    "# given a array you need to find the pair of number which will result in a sum  = target by using two pointer approach\n",
    "\n",
    "def two_sum(a, target):\n",
    "    # Sort the array in increasing order\n",
    "    a = sorted(a)\n",
    "    \n",
    "    i = 0  # left pointer\n",
    "    j = len(a) - 1  # right pointer\n",
    "    \n",
    "    while i < j:\n",
    "        sm = a[i] + a[j]\n",
    "        if sm == target:\n",
    "            print(f\"{a[i]} {a[j]}\")\n",
    "            print(f\"{i} {j}\")\n",
    "            return True\n",
    "        elif sm < target:\n",
    "            i += 1\n",
    "        else:\n",
    "            j -= 1\n",
    "    \n",
    "    return False\n",
    "\n",
    "        \n",
    "        "
   ]
  },
  {
   "cell_type": "code",
   "execution_count": 35,
   "id": "2226cd23-cd66-42d3-9892-89712d5d6fc9",
   "metadata": {},
   "outputs": [
    {
     "name": "stdout",
     "output_type": "stream",
     "text": [
      "4 6\n",
      "2 5\n"
     ]
    },
    {
     "data": {
      "text/plain": [
       "True"
      ]
     },
     "execution_count": 35,
     "metadata": {},
     "output_type": "execute_result"
    }
   ],
   "source": [
    "a= [2,4,6,3,6,4]\n",
    "target = 10\n",
    "two_sum(a,target)"
   ]
  },
  {
   "cell_type": "code",
   "execution_count": 57,
   "id": "463142b4-dc79-437c-8ea7-34d3fa422b2b",
   "metadata": {},
   "outputs": [],
   "source": [
    "def best_total_price(prices,k):\n",
    "    max_total = float('-inf')\n",
    "    for i in range(len(prices)-k+1):\n",
    "        total = sum(prices[i:i+k])\n",
    "        max_total = max(max_total,total)\n",
    "    return max_total"
   ]
  },
  {
   "cell_type": "code",
   "execution_count": 91,
   "id": "6dc532d8-de19-4417-b112-5869c7817a18",
   "metadata": {},
   "outputs": [
    {
     "data": {
      "text/plain": [
       "14"
      ]
     },
     "execution_count": 91,
     "metadata": {},
     "output_type": "execute_result"
    }
   ],
   "source": [
    "prices= [3,5,6,3,2,1]\n",
    "best_total_price(prices,3)\n",
    "best_total(prices,3)\n"
   ]
  },
  {
   "cell_type": "code",
   "execution_count": 103,
   "id": "ce3293cf-c285-4681-9efe-59f9ad9f421f",
   "metadata": {},
   "outputs": [
    {
     "name": "stdout",
     "output_type": "stream",
     "text": [
      " Volume in drive E is Windows\n",
      " Volume Serial Number is 12CC-A8CA\n",
      "\n",
      " Directory of E:\\Data Science Works\\hackerrank\\Practice-book\\Company coding questions\n",
      "\n",
      "22-11-2024  15:29    <DIR>          .\n",
      "15-11-2024  15:02    <DIR>          ..\n",
      "24-03-2024  00:49    <DIR>          .ipynb_checkpoints\n",
      "22-11-2024  15:29            11,687 Untitled.ipynb\n",
      "               1 File(s)         11,687 bytes\n",
      "               3 Dir(s)  235,279,687,680 bytes free\n"
     ]
    }
   ],
   "source": [
    "!git commit -m\"Company coding questions"
   ]
  },
  {
   "cell_type": "code",
   "execution_count": 87,
   "id": "5c8d8ba6-9feb-49f5-9d48-5faf09d42338",
   "metadata": {},
   "outputs": [],
   "source": [
    "# using slinding window technique\n",
    "def best_total(prices,k):\n",
    "    if k > len(prices):\n",
    "        return 0\n",
    "    total = sum(prices[:k])\n",
    "    max_total = total\n",
    "    for i in range(len(prices)-k):\n",
    "        total -=prices[i]\n",
    "        total += prices[i+k]\n",
    "        max_total = max(max_total,total)\n",
    "    return max_total"
   ]
  },
  {
   "cell_type": "code",
   "execution_count": 59,
   "id": "c9d03547-e02a-4b18-8c60-9813748ef79a",
   "metadata": {},
   "outputs": [
    {
     "name": "stdin",
     "output_type": "stream",
     "text": [
      "enter the series length you want to print : 4\n"
     ]
    },
    {
     "name": "stdout",
     "output_type": "stream",
     "text": [
      "fibonacci_your: [0, 1, 1, 2]\n"
     ]
    }
   ],
   "source": [
    "# function definition\n",
    "def fibonacci(num: int):\n",
    "    #intialize\n",
    "    fibo_series = [0,1]\n",
    "    \n",
    "    # generate series\n",
    "    for i in range (2,num):\n",
    "        num_new = fibo_series[-1] + fibo_series[-2]\n",
    "        fibo_series.append(num_new)\n",
    "    return fibo_series\n",
    "\n",
    "num = int(input(\"enter the series length you want to print :\"))\n",
    "fibonacci_your = fibonacci(num)\n",
    "print(\"fibonacci_your:\",fibonacci_your)"
   ]
  },
  {
   "cell_type": "code",
   "execution_count": 35,
   "id": "d0a2453d-7449-4e52-bf85-4f4cf315762f",
   "metadata": {},
   "outputs": [
    {
     "name": "stdout",
     "output_type": "stream",
     "text": [
      "Fibonacci Series: 0 1 1 2 3 5 8 13 21 34 "
     ]
    }
   ],
   "source": [
    "\n",
    "\n",
    "num = 10  # Number of Fibonacci numbers to generate\n",
    "if num <= 0:\n",
    "    print(\"Please enter a positive number\")\n",
    "else:\n",
    "    print(\"Fibonacci Series:\", end=\" \")\n",
    "    for i in range(num):\n",
    "        print(fibonacciSeries(i), end=\" \")\n"
   ]
  },
  {
   "cell_type": "code",
   "execution_count": 55,
   "id": "2b35f18e-57f0-4e40-a055-0d456cf6da90",
   "metadata": {},
   "outputs": [
    {
     "name": "stdin",
     "output_type": "stream",
     "text": [
      "enter the number of fibonacci numbers you want: 4\n"
     ]
    },
    {
     "name": "stdout",
     "output_type": "stream",
     "text": [
      "1 1 2 3 "
     ]
    }
   ],
   "source": [
    "# fibonacci using recusion\n",
    "\n",
    "\n",
    "num_terms = int(input(\"enter the number of fibonacci numbers you want:\"))\n",
    "\n",
    "if num_terms <= 0:\n",
    "    print(\"Please enter a valid number\")\n",
    "else:\n",
    "    for i in range(num_terms):\n",
    "        print(fibonacci(i),end=\" \")\n",
    "\n",
    "def fibonacci (i):\n",
    "    if i <=1:\n",
    "        return 1\n",
    "    else:\n",
    "        return fibonacci(i-1) + fibonacci(i-2)"
   ]
  },
  {
   "cell_type": "code",
   "execution_count": 75,
   "id": "03534168-dc24-4651-862a-ec55e988f170",
   "metadata": {},
   "outputs": [
    {
     "name": "stdin",
     "output_type": "stream",
     "text": [
      "enter the num of fibonacci you want: 4\n"
     ]
    },
    {
     "ename": "RecursionError",
     "evalue": "maximum recursion depth exceeded",
     "output_type": "error",
     "traceback": [
      "\u001b[1;31m---------------------------------------------------------------------------\u001b[0m",
      "\u001b[1;31mRecursionError\u001b[0m                            Traceback (most recent call last)",
      "Cell \u001b[1;32mIn[75], line 17\u001b[0m\n\u001b[0;32m     15\u001b[0m     \u001b[38;5;28mprint\u001b[39m(\u001b[38;5;124m\"\u001b[39m\u001b[38;5;124mPlease enter the valid number\u001b[39m\u001b[38;5;124m\"\u001b[39m)\n\u001b[0;32m     16\u001b[0m \u001b[38;5;28;01melse\u001b[39;00m:\n\u001b[1;32m---> 17\u001b[0m     n_th_term \u001b[38;5;241m=\u001b[39m fibo_series(n\u001b[38;5;241m-\u001b[39m\u001b[38;5;241m1\u001b[39m)\n\u001b[0;32m     18\u001b[0m     \u001b[38;5;28mprint\u001b[39m(\u001b[38;5;124mf\u001b[39m\u001b[38;5;124m\"\u001b[39m\u001b[38;5;124mthe \u001b[39m\u001b[38;5;132;01m{\u001b[39;00mn\u001b[38;5;132;01m}\u001b[39;00m\u001b[38;5;124m th term of fibonacci series is :\u001b[39m\u001b[38;5;132;01m{\u001b[39;00mn_th_term\u001b[38;5;132;01m}\u001b[39;00m\u001b[38;5;124m\"\u001b[39m)\n",
      "Cell \u001b[1;32mIn[75], line 10\u001b[0m, in \u001b[0;36mfibo_series\u001b[1;34m(n)\u001b[0m\n\u001b[0;32m      8\u001b[0m     \u001b[38;5;28;01mreturn\u001b[39;00m n\n\u001b[0;32m      9\u001b[0m \u001b[38;5;28;01melse\u001b[39;00m :\n\u001b[1;32m---> 10\u001b[0m     \u001b[38;5;28;01mreturn\u001b[39;00m fibo_series(n\u001b[38;5;241m-\u001b[39m\u001b[38;5;241m1\u001b[39m) \u001b[38;5;241m+\u001b[39m fibo_series(n\u001b[38;5;241m=\u001b[39m\u001b[38;5;241m2\u001b[39m)\n",
      "Cell \u001b[1;32mIn[75], line 10\u001b[0m, in \u001b[0;36mfibo_series\u001b[1;34m(n)\u001b[0m\n\u001b[0;32m      8\u001b[0m     \u001b[38;5;28;01mreturn\u001b[39;00m n\n\u001b[0;32m      9\u001b[0m \u001b[38;5;28;01melse\u001b[39;00m :\n\u001b[1;32m---> 10\u001b[0m     \u001b[38;5;28;01mreturn\u001b[39;00m fibo_series(n\u001b[38;5;241m-\u001b[39m\u001b[38;5;241m1\u001b[39m) \u001b[38;5;241m+\u001b[39m fibo_series(n\u001b[38;5;241m=\u001b[39m\u001b[38;5;241m2\u001b[39m)\n",
      "    \u001b[1;31m[... skipping similar frames: fibo_series at line 10 (2970 times)]\u001b[0m\n",
      "Cell \u001b[1;32mIn[75], line 10\u001b[0m, in \u001b[0;36mfibo_series\u001b[1;34m(n)\u001b[0m\n\u001b[0;32m      8\u001b[0m     \u001b[38;5;28;01mreturn\u001b[39;00m n\n\u001b[0;32m      9\u001b[0m \u001b[38;5;28;01melse\u001b[39;00m :\n\u001b[1;32m---> 10\u001b[0m     \u001b[38;5;28;01mreturn\u001b[39;00m fibo_series(n\u001b[38;5;241m-\u001b[39m\u001b[38;5;241m1\u001b[39m) \u001b[38;5;241m+\u001b[39m fibo_series(n\u001b[38;5;241m=\u001b[39m\u001b[38;5;241m2\u001b[39m)\n",
      "\u001b[1;31mRecursionError\u001b[0m: maximum recursion depth exceeded"
     ]
    }
   ],
   "source": [
    "# finding the n th term in the fibonacci series\n",
    "\n",
    "\n",
    "    \n",
    "# recursive function \n",
    "def fibo_series(n):\n",
    "    if n <= 1:\n",
    "        return n\n",
    "    else :\n",
    "        return fibo_series(n-1) + fibo_series(n=2)\n",
    "# taking the num of fibo series\n",
    "n = int(input(\"enter the num of fibonacci you want:\"))\n",
    "\n",
    "if n <= 0:\n",
    "    print(\"Please enter the valid number\")\n",
    "else:\n",
    "    n_th_term = fibo_series(n-1)\n",
    "    print(f\"the {n} th term of fibonacci series is :{n_th_term}\")"
   ]
  },
  {
   "cell_type": "code",
   "execution_count": 77,
   "id": "f18225cc-a2a6-421b-8ce1-6e325858639a",
   "metadata": {},
   "outputs": [
    {
     "name": "stdin",
     "output_type": "stream",
     "text": [
      "Enter the position (n) of the Fibonacci term you want:  4\n"
     ]
    },
    {
     "name": "stdout",
     "output_type": "stream",
     "text": [
      "The 4-th term of the Fibonacci series is: 2\n"
     ]
    }
   ],
   "source": [
    "def fibonacci(n):\n",
    "    # Base cases\n",
    "    if n <= 1:\n",
    "        return n\n",
    "    else:\n",
    "        return fibonacci(n - 1) + fibonacci(n - 2)\n",
    "\n",
    "# Input: The position of the term in the Fibonacci series\n",
    "n = int(input(\"Enter the position (n) of the Fibonacci term you want: \"))\n",
    "\n",
    "if n <= 0:\n",
    "    print(\"Please enter a positive integer greater than 0.\")\n",
    "else:\n",
    "    nth_term = fibonacci(n - 1)  # Subtract 1 because indexing starts from 0\n",
    "    print(f\"The {n}-th term of the Fibonacci series is: {nth_term}\")\n"
   ]
  }
 ],
 "metadata": {
  "kernelspec": {
   "display_name": "Python 3 (ipykernel)",
   "language": "python",
   "name": "python3"
  },
  "language_info": {
   "codemirror_mode": {
    "name": "ipython",
    "version": 3
   },
   "file_extension": ".py",
   "mimetype": "text/x-python",
   "name": "python",
   "nbconvert_exporter": "python",
   "pygments_lexer": "ipython3",
   "version": "3.11.7"
  }
 },
 "nbformat": 4,
 "nbformat_minor": 5
}
