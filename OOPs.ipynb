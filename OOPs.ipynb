{
 "cells": [
  {
   "cell_type": "markdown",
   "id": "46e9f11d-ccee-4919-b024-338ab07837c1",
   "metadata": {},
   "source": [
    "# INHERITANCE"
   ]
  },
  {
   "cell_type": "code",
   "execution_count": 22,
   "id": "e3170031-71be-43f3-b27a-876f5610b6b1",
   "metadata": {
    "scrolled": true
   },
   "outputs": [
    {
     "name": "stdout",
     "output_type": "stream",
     "text": [
      "Fulltime Employee Details\n",
      "****************************\n",
      "Name :- Asif\n",
      "Age :- 22\n",
      "Gender :- Male\n",
      "Employee ID :- 567\n",
      "Salary :- 70000\n",
      "Work Experience :- 12\n"
     ]
    }
   ],
   "source": [
    "# Multi level inheritance\n",
    "class person:   # Parent Class\n",
    "    def __init__(self, name , age , gender):\n",
    "        self.name = name\n",
    "        self.age = age\n",
    "        self.gender = gender\n",
    "    def PersonInfo(self):\n",
    "        print('Name :- {}'.format(self.name))\n",
    "        print('Age :- {}'.format(self.age))\n",
    "        print('Gender :- {}'.format(self.gender))\n",
    "class employee(person): # Child Class\n",
    "    def __init__(self,name,age,gender,empid,salary):\n",
    "        person.__init__(self,name,age,gender)\n",
    "        self.empid = empid\n",
    "        self.salary = salary\n",
    "    def employeeInfo(self):\n",
    "        print('Employee ID :- {}'.format(self.empid))\n",
    "        print('Salary :- {}'.format(self.salary))\n",
    "class fulltime(employee): # Grand Child Class\n",
    "    def __init__(self,name,age,gender,empid,salary,WorkExperience):\n",
    "        employee.__init__(self,name,age,gender,empid,salary)\n",
    "        self.WorkExperience = WorkExperience\n",
    "    def FulltimeInfo(self):\n",
    "        print('Work Experience :- {}'.format(self.WorkExperience))\n",
    "\n",
    "print('Fulltime Employee Details')\n",
    "print('****************************')\n",
    "fulltim1= fulltime('Asif' , 22 , 'Male' , 567 , 70000, 12)\n",
    "fulltim1.PersonInfo()\n",
    "fulltim1.employeeInfo()\n",
    "fulltim1.FulltimeInfo()"
   ]
  },
  {
   "cell_type": "code",
   "execution_count": 34,
   "id": "c5e915c7-21ee-46c0-ab31-2d068b5429b9",
   "metadata": {},
   "outputs": [
    {
     "name": "stdout",
     "output_type": "stream",
     "text": [
      "My Name :-  Bill\n",
      "Father : John\n",
      "Mother : Kristen\n"
     ]
    }
   ],
   "source": [
    "# Super Class\n",
    "class Father:\n",
    "    def __init__(self):\n",
    "        self.fathername = str()\n",
    "    # Super Class\n",
    "class Mother:\n",
    "    def __init__(self):\n",
    "        self.mothername = str()\n",
    "    # Sub Class\n",
    "class Son(Father, Mother):\n",
    "    name = str()\n",
    "    def show(self):\n",
    "        print('My Name :- ',self.name)\n",
    "        print(\"Father :\", self.fathername)\n",
    "        print(\"Mother :\", self.mothername)\n",
    "s1 = Son()\n",
    "s1.name = 'Bill'\n",
    "s1.fathername = \"John\"\n",
    "s1.mothername = \"Kristen\"\n",
    "s1.show()"
   ]
  },
  {
   "cell_type": "code",
   "execution_count": null,
   "id": "7edef3a2-177d-40df-a56a-30d5a98f8cc2",
   "metadata": {},
   "outputs": [],
   "source": []
  }
 ],
 "metadata": {
  "kernelspec": {
   "display_name": "Python 3 (ipykernel)",
   "language": "python",
   "name": "python3"
  },
  "language_info": {
   "codemirror_mode": {
    "name": "ipython",
    "version": 3
   },
   "file_extension": ".py",
   "mimetype": "text/x-python",
   "name": "python",
   "nbconvert_exporter": "python",
   "pygments_lexer": "ipython3",
   "version": "3.11.7"
  }
 },
 "nbformat": 4,
 "nbformat_minor": 5
}
