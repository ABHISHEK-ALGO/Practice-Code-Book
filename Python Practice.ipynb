{
 "cells": [
  {
   "cell_type": "code",
   "execution_count": 4,
   "id": "2f2a8f7d-a909-43d7-b56c-8b4dd389e8cd",
   "metadata": {},
   "outputs": [
    {
     "name": "stdin",
     "output_type": "stream",
     "text": [
      "Enter the first number: 6\n",
      "Enter the second number: 5\n"
     ]
    },
    {
     "name": "stdout",
     "output_type": "stream",
     "text": [
      "6 5\n",
      "5 6\n"
     ]
    }
   ],
   "source": [
    "# Swap the number without using third variable\n",
    "x = int(input(\"Enter the first number:\"))\n",
    "y = int(input(\"Enter the second number:\"))\n",
    "print(x,y)\n",
    "x = x+y\n",
    "y = x-y\n",
    "x = x-y\n",
    "print(x,y)"
   ]
  },
  {
   "cell_type": "code",
   "execution_count": 2,
   "id": "98a7c157-9109-47b7-b620-911f16c9d442",
   "metadata": {},
   "outputs": [],
   "source": [
    "# swap the number using third variable\n",
    "def swap(a,b):\n",
    "    third = a \n",
    "    a = b\n",
    "    b = third\n",
    "    return a,b"
   ]
  },
  {
   "cell_type": "code",
   "execution_count": 6,
   "id": "91960ec3-1883-40e5-a6ea-be95e9cfce53",
   "metadata": {},
   "outputs": [
    {
     "data": {
      "text/plain": [
       "(5, 3)"
      ]
     },
     "execution_count": 6,
     "metadata": {},
     "output_type": "execute_result"
    }
   ],
   "source": [
    "swap(3,5)"
   ]
  },
  {
   "cell_type": "code",
   "execution_count": 12,
   "id": "b54fc4d9-a30e-4ba4-84d9-7e770a8f2b04",
   "metadata": {},
   "outputs": [
    {
     "name": "stdin",
     "output_type": "stream",
     "text": [
      "enter the string to be reversed: 6754\n"
     ]
    },
    {
     "name": "stdout",
     "output_type": "stream",
     "text": [
      "<class 'int'>\n",
      "4576\n"
     ]
    }
   ],
   "source": [
    "x = int(input(\"enter the string to be reversed:\"))\n",
    "n = str(x)[::-1]\n",
    "print(type(x))\n",
    "print(n)\n"
   ]
  },
  {
   "cell_type": "code",
   "execution_count": 38,
   "id": "d69b2d29-379d-42ef-9883-26a4edd43cda",
   "metadata": {},
   "outputs": [
    {
     "name": "stdin",
     "output_type": "stream",
     "text": [
      "Enter the 3 digit number: 123\n"
     ]
    },
    {
     "name": "stdout",
     "output_type": "stream",
     "text": [
      "6\n"
     ]
    }
   ],
   "source": [
    "# find the sum of three digit number\n",
    "x = int(input(\"Enter the 3 digit number:\"))#123\n",
    "a = x%10 # gives last digit 3\n",
    "n = x//10# gives remaining 12\n",
    "b = n%10 # gives 2\n",
    "c = n//10 # remaining 1\n",
    "print(a+b+c)"
   ]
  },
  {
   "cell_type": "code",
   "execution_count": 48,
   "id": "33d5418d-1435-45cc-9088-9e4ebc5f9f2d",
   "metadata": {},
   "outputs": [
    {
     "name": "stdin",
     "output_type": "stream",
     "text": [
      "Enter the 4 digit number 0987\n"
     ]
    },
    {
     "name": "stdout",
     "output_type": "stream",
     "text": [
      "7890\n",
      "Yes reverse\n"
     ]
    }
   ],
   "source": [
    "# find the reverse of four digit number and find it is true or not \n",
    "x = int(input(\"Enter the 4 digit number\"))\n",
    "a = x%10\n",
    "num1= x//10\n",
    "b = num1%10\n",
    "num2 = num1//10\n",
    "c = num2%10\n",
    "num3 = num2//10\n",
    "d = num3%10\n",
    "rev = 1000*a+100*b+10*c+d\n",
    "print(rev)\n",
    "if x == rev:\n",
    "    print(\"Notx reverse\")\n",
    "else:\n",
    "    print(\"Yes reverse\")\n",
    "    "
   ]
  },
  {
   "cell_type": "code",
   "execution_count": 18,
   "id": "8a0c2081-5768-4430-9bfb-df6d1a6337b7",
   "metadata": {},
   "outputs": [
    {
     "name": "stdin",
     "output_type": "stream",
     "text": [
      "enter the 4 digit number: 7896\n"
     ]
    },
    {
     "name": "stdout",
     "output_type": "stream",
     "text": [
      "6987\n"
     ]
    }
   ],
   "source": [
    "x = int(input(\"enter the 4 digit number:\"))\n",
    "a = x%10\n",
    "num1 = x//10\n",
    "b = num1%10\n",
    "num2 = num1//10\n",
    "c = num2%10\n",
    "num3 = num2//10\n",
    "d = num3%10\n",
    "rev = 1000*a+100*b+10*c+d\n",
    "print(rev)"
   ]
  },
  {
   "cell_type": "code",
   "execution_count": 20,
   "id": "54050db5-e715-4fa7-9b0d-588300d1ef7f",
   "metadata": {},
   "outputs": [],
   "source": [
    "# reversing the integers\n",
    "class Solution:\n",
    "    def reverse(self,x:int):\n",
    "        is_neg = x < 0\n",
    "        x = abs(x)\n",
    "        rev = 0\n",
    "        while x > 0:\n",
    "            ld = x%10\n",
    "            rev = rev*10+ld\n",
    "            x = x//10\n",
    "        if is_neg:\n",
    "            rev = -rev\n",
    "        return rev\n",
    "        "
   ]
  },
  {
   "cell_type": "code",
   "execution_count": 24,
   "id": "707dc94f-41a4-4029-be44-543fe6ed3bf4",
   "metadata": {},
   "outputs": [
    {
     "name": "stdout",
     "output_type": "stream",
     "text": [
      "9587\n"
     ]
    }
   ],
   "source": [
    "sol = Solution()\n",
    "print(sol.reverse(7859))"
   ]
  },
  {
   "cell_type": "code",
   "execution_count": 58,
   "id": "61e65ce4-9b52-4966-8100-0cbdbee2484c",
   "metadata": {},
   "outputs": [
    {
     "name": "stdin",
     "output_type": "stream",
     "text": [
      "enter X1 : 6\n",
      "enter X2 : 3\n",
      "enter Y1 : 7\n",
      "enter Y2 : 8\n"
     ]
    },
    {
     "name": "stdout",
     "output_type": "stream",
     "text": [
      "========================================================================================================================================================================================================\n",
      "euclidean distance between given coordinates is: 3.16\n"
     ]
    }
   ],
   "source": [
    "# find distance between two points \n",
    "\n",
    "import math\n",
    "x1 = int(input(\"enter X1 :\"))\n",
    "x2 = int(input(\"enter X2 :\"))\n",
    "y1 = int(input(\"enter Y1 :\"))\n",
    "y2 = int(input(\"enter Y2 :\"))\n",
    "print(\"==\"*100)\n",
    "x = [x1,y1]\n",
    "y = [x2,y2]\n",
    "print(\"euclidean distance between given coordinates is:\",round(math.dist(x,y),2))"
   ]
  },
  {
   "cell_type": "code",
   "execution_count": 62,
   "id": "9992e4d3-e6d0-4d79-8b4e-38f57cb09e17",
   "metadata": {},
   "outputs": [
    {
     "name": "stdin",
     "output_type": "stream",
     "text": [
      "Enter the number: 18\n"
     ]
    },
    {
     "name": "stdout",
     "output_type": "stream",
     "text": [
      "the number is divisible by 3 and 6\n"
     ]
    }
   ],
   "source": [
    "# tell whetehr the number is divisible by 3 and 6 or not\n",
    "num = int(input(\"Enter the number:\"))\n",
    "if num%3==0 & num%6==0:\n",
    "    print(\"the number is divisible by 3 and 6\")\n",
    "else:\n",
    "    print(\"the number is not divisible by 3 and 6\")"
   ]
  },
  {
   "cell_type": "code",
   "execution_count": 34,
   "id": "e752069b-7c71-40e7-a5f3-682a0084a3c1",
   "metadata": {},
   "outputs": [
    {
     "name": "stdin",
     "output_type": "stream",
     "text": [
      "Enter the 3 digit number: 654\n"
     ]
    },
    {
     "name": "stdout",
     "output_type": "stream",
     "text": [
      "77\n"
     ]
    }
   ],
   "source": [
    "# take three input and print their square as output \n",
    "n = int(input(\"Enter the 3 digit number:\"))\n",
    "x = n%10\n",
    "num1 = n//10\n",
    "a = num1%10\n",
    "num2 = num1//10\n",
    "b = num2%10\n",
    "num3 = num2//10\n",
    "output = (x**2+a**2+b**2)\n",
    "print(output)"
   ]
  },
  {
   "cell_type": "code",
   "execution_count": 74,
   "id": "1d8925dc-04cb-4805-be75-aaaf333459c3",
   "metadata": {},
   "outputs": [
    {
     "name": "stdin",
     "output_type": "stream",
     "text": [
      "Enter the 3 digit number 371\n"
     ]
    },
    {
     "name": "stdout",
     "output_type": "stream",
     "text": [
      "The number is Armstrong\n"
     ]
    }
   ],
   "source": [
    "# check whether the 3 digit number is armstrong number or not \n",
    "n = int(input(\"Enter the 3 digit number\"))\n",
    "a = n%10\n",
    "num1 = n//10\n",
    "b = num1%10\n",
    "c = num1//10\n",
    "\n",
    "if (a**3+b**3+c**3) ==n :\n",
    "    print(\"The number is Armstrong\")\n",
    "else:\n",
    "    print(\"the number is not Armstrong\")"
   ]
  },
  {
   "cell_type": "code",
   "execution_count": 82,
   "id": "bb0856a8-43ee-4208-a19e-715a725e1f8f",
   "metadata": {
    "scrolled": true
   },
   "outputs": [
    {
     "name": "stdout",
     "output_type": "stream",
     "text": [
      "the *name *is *good\n"
     ]
    }
   ],
   "source": [
    "print(\"the\",\"name\",\"is\", \"good\",sep = \" *\")"
   ]
  },
  {
   "cell_type": "code",
   "execution_count": 100,
   "id": "8ca7dbac-4678-461d-a6a3-f9914276500a",
   "metadata": {},
   "outputs": [
    {
     "name": "stdout",
     "output_type": "stream",
     "text": [
      "7.98\n"
     ]
    }
   ],
   "source": [
    "num = 7.98474\n",
    "print(float(round(num,2)))"
   ]
  },
  {
   "cell_type": "code",
   "execution_count": 104,
   "id": "bd849874-f321-469e-b42e-4fe103072690",
   "metadata": {},
   "outputs": [
    {
     "name": "stdin",
     "output_type": "stream",
     "text": [
      "enter the number 87\n"
     ]
    },
    {
     "name": "stdout",
     "output_type": "stream",
     "text": [
      "these are the factors 1\n",
      "these are the factors 3\n",
      "these are the factors 29\n",
      "these are the factors 87\n"
     ]
    }
   ],
   "source": [
    "# print all factors of the given number provided by the user\n",
    "n = int(input(\"enter the number\"))\n",
    "for i in range(1,n+1):\n",
    "    if n%i==0:\n",
    "        print(\"these are the factors\",i)"
   ]
  },
  {
   "cell_type": "code",
   "execution_count": 120,
   "id": "00a2d6a5-f800-4fdd-85a9-bebefe01bfac",
   "metadata": {},
   "outputs": [
    {
     "name": "stdin",
     "output_type": "stream",
     "text": [
      "Enter the number 6.7\n",
      "Enter the number 7.8\n",
      "Enter the number 5.7\n",
      "Enter the number 7.8\n"
     ]
    },
    {
     "name": "stdout",
     "output_type": "stream",
     "text": [
      "[6.7, 7.8, 5.7, 7.8]\n"
     ]
    }
   ],
   "source": [
    "# Accept a list of 5 float numbers as an input from the user\n",
    "\n",
    "ln = []\n",
    "while len(ln) <3:\n",
    "    n = float(input(\"Enter the number\"))\n",
    "    ln.append(n)\n",
    "print(ln)        "
   ]
  },
  {
   "cell_type": "code",
   "execution_count": 128,
   "id": "f07255c8-7d28-4d00-995e-e070aed1eb15",
   "metadata": {},
   "outputs": [
    {
     "name": "stdin",
     "output_type": "stream",
     "text": [
      "enter the three names with keeping space in between:  abhi ban maska\n"
     ]
    },
    {
     "name": "stdout",
     "output_type": "stream",
     "text": [
      "['abhi', 'ban', 'maska']\n",
      "ban\n"
     ]
    }
   ],
   "source": [
    "inp=input(\"enter the three names with keeping space in between: \")\n",
    "sep=inp.split()\n",
    "n1 = sep[0]\n",
    "n2 = sep[1]\n",
    "print(sep)\n",
    "print(n2)"
   ]
  },
  {
   "cell_type": "code",
   "execution_count": 134,
   "id": "d6be39ff-fa0a-4be6-8e92-cdf765063eef",
   "metadata": {},
   "outputs": [
    {
     "name": "stdout",
     "output_type": "stream",
     "text": [
      "I have 1000 dollars so I can buy 4 for 450 dollars each\n"
     ]
    }
   ],
   "source": [
    "total_money = 1000\n",
    "quantity = 4\n",
    "price = 450\n",
    "print(\"I have {} dollars so I can buy {} for {} dollars each\".format(total_money,quantity,price))"
   ]
  },
  {
   "cell_type": "code",
   "execution_count": 138,
   "id": "82eec36f-e1e2-41cc-a66a-132985d1e168",
   "metadata": {},
   "outputs": [
    {
     "name": "stdout",
     "output_type": "stream",
     "text": [
      "file is not empty\n"
     ]
    }
   ],
   "source": [
    "import os\n",
    "size=os.stat(\"sample.txt\").st_size\n",
    "if size==0:\n",
    " print(\"file is empty\")\n",
    "else:\n",
    " print(\"file is not empty\")"
   ]
  },
  {
   "cell_type": "code",
   "execution_count": 5,
   "id": "e4fd34dd-9786-41e2-8e2d-cbc1aef02355",
   "metadata": {},
   "outputs": [
    {
     "name": "stdout",
     "output_type": "stream",
     "text": [
      "line 2 \n",
      "\n",
      "line 5 \n",
      "\n"
     ]
    }
   ],
   "source": [
    "# Read the 4 line from the following file\n",
    "with open(\"sample.txt\") as fp:\n",
    "    lines = fp.readlines()\n",
    "print(lines[1])\n",
    "\n",
    "with open(\"sample.txt\") as fp:\n",
    "    lines = fp.readlines()\n",
    "print(lines[4])"
   ]
  },
  {
   "cell_type": "code",
   "execution_count": 13,
   "id": "b296a3ae-810c-45b1-8dc6-0d6c82338c7f",
   "metadata": {},
   "outputs": [],
   "source": [
    "# write all the contects of the file into the new file but skips the line number 5\n",
    "\n",
    "with open(\"sample_new\",\"w\") as fp:\n",
    "    count=0\n",
    "    for line in lines:\n",
    "        if count == 4:\n",
    "            count = +1\n",
    "            continue\n",
    "        else:\n",
    "            fp.write(line)\n",
    "            count+=1"
   ]
  },
  {
   "cell_type": "code",
   "execution_count": 2,
   "id": "12ef0bab-8297-409e-a9d9-8dc2ad7f83a6",
   "metadata": {},
   "outputs": [
    {
     "name": "stdout",
     "output_type": "stream",
     "text": [
      "1 3 5 7 9 11 13 15 17 19 "
     ]
    }
   ],
   "source": [
    " #Print the sum of the current number and the previous number Write a program to iterate the first\n",
    " #10 numbers and in each iteration, print the sum of the current and previous number.\n",
    "prev_num = 0\n",
    "for i in range(1,11):\n",
    "    x = i + prev_num\n",
    "    prev_num = i\n",
    "    print(x,end = \" \")"
   ]
  },
  {
   "cell_type": "code",
   "execution_count": 18,
   "id": "8999c80b-af06-4712-a047-dc8a7368e2ee",
   "metadata": {},
   "outputs": [
    {
     "name": "stdin",
     "output_type": "stream",
     "text": [
      "enter the number: 3\n"
     ]
    },
    {
     "name": "stdout",
     "output_type": "stream",
     "text": [
      "the number exist\n"
     ]
    }
   ],
   "source": [
    "# Write a python program to search a given number from a list\n",
    "l1=[4,5,6,2,3,9,1,4,5,6,3]\n",
    "\n",
    "n = int(input(\"enter the number:\"))\n",
    "for i in l1:\n",
    "        if i ==n:\n",
    "            print(\"the number exist\")\n",
    "            break\n",
    "else:\n",
    "    print(\"the number not exist\")"
   ]
  },
  {
   "cell_type": "code",
   "execution_count": 24,
   "id": "c3b98b6c-0ad4-450b-a295-028393e1ca63",
   "metadata": {},
   "outputs": [
    {
     "name": "stdin",
     "output_type": "stream",
     "text": [
      "enter the number 121\n"
     ]
    },
    {
     "name": "stdout",
     "output_type": "stream",
     "text": [
      "121\n",
      "no it is not palindrome\n"
     ]
    }
   ],
   "source": [
    "#check for the palindrome number\n",
    "n=int(input(\"enter the number\"))\n",
    "rev_number = str(n)[::-1]\n",
    "print(rev_number)\n",
    "if n == rev_number:\n",
    "    print(\"yes it is palindrome\")\n",
    "else:\n",
    "    print(\"no it is not palindrome\")"
   ]
  },
  {
   "cell_type": "code",
   "execution_count": null,
   "id": "7fed822c-1a1e-41f8-863b-3b535b363ab8",
   "metadata": {},
   "outputs": [],
   "source": [
    "#Create a new list from a two list using the following condition Given a two list of numbers, write\n",
    " #a program to create a new list such that the new list should contain odd numbers from the first list and even\n",
    " #numbers from the second list.\n",
    "\n",
    "l1=[1,2,3,4,5]\n",
    "l2=[6,7,8,9,10]\n",
    "l3 = []\n",
    "\n",
    "for i in l1:\n",
    "    if i%2==0:\n",
    "        l3.append(i)\n",
    "for i in l2:\n",
    "    if i%2 != 0:\n",
    "        l3.append(i)\n",
    "\n",
    "print(l3)"
   ]
  },
  {
   "cell_type": "code",
   "execution_count": null,
   "id": "939a11ed-f162-42f7-b19c-b861ed32454a",
   "metadata": {},
   "outputs": [],
   "source": [
    "for i in range(1,11):\n",
    "    for j in range(1,11):\n",
    "        print(i*j,end =\" \")"
   ]
  },
  {
   "cell_type": "code",
   "execution_count": 8,
   "id": "2d5cd78c-5eba-4003-8b1a-1b58ac25bb23",
   "metadata": {},
   "outputs": [],
   "source": [
    "# Find factorial of number with recursion\n",
    "def factorial(num):\n",
    "    if num <= 1:\n",
    "        return 1\n",
    "    else:\n",
    "        return num*factorial(num-1)"
   ]
  },
  {
   "cell_type": "code",
   "execution_count": 10,
   "id": "871f7dbc-deeb-4bbe-b1b8-591e48d9846d",
   "metadata": {},
   "outputs": [
    {
     "data": {
      "text/plain": [
       "120"
      ]
     },
     "execution_count": 10,
     "metadata": {},
     "output_type": "execute_result"
    }
   ],
   "source": [
    "factorial(5)"
   ]
  },
  {
   "cell_type": "code",
   "execution_count": 16,
   "id": "4a7586c5-e44b-4e95-a11c-04bdef316e45",
   "metadata": {},
   "outputs": [],
   "source": [
    "# Sum of n numbers using recursion\n",
    "def sum(num):\n",
    "    if num <= 0:\n",
    "        return 0\n",
    "    else:\n",
    "        return num + sum(num-1)"
   ]
  },
  {
   "cell_type": "code",
   "execution_count": 18,
   "id": "aaa26377-e906-4fc1-907e-971e7b7d77d5",
   "metadata": {},
   "outputs": [
    {
     "data": {
      "text/plain": [
       "10"
      ]
     },
     "execution_count": 18,
     "metadata": {},
     "output_type": "execute_result"
    }
   ],
   "source": [
    "sum(4)"
   ]
  },
  {
   "cell_type": "code",
   "execution_count": 28,
   "id": "09b9c6f6-20cc-4ebe-bccb-646632296737",
   "metadata": {},
   "outputs": [],
   "source": [
    "# fibonacci numbers without recursion\n",
    "def fibonacci(num):\n",
    "    if num <= 1:\n",
    "        return num\n",
    "    if num == 2:\n",
    "        return 1\n",
    "    else:\n",
    "        return (fibonacci(num-1) + fibonacci(num-2))"
   ]
  },
  {
   "cell_type": "code",
   "execution_count": 32,
   "id": "2063f3b2-c924-4658-b89c-eccab37dfbea",
   "metadata": {
    "scrolled": true
   },
   "outputs": [
    {
     "name": "stdin",
     "output_type": "stream",
     "text": [
      "how many fibo numbers you want: 4\n"
     ]
    },
    {
     "name": "stdout",
     "output_type": "stream",
     "text": [
      "0\n",
      "1\n",
      "1\n",
      "2\n"
     ]
    }
   ],
   "source": [
    "num = int(input(\"how many fibo numbers you want:\"))\n",
    "for i in range(num):\n",
    "    print(fibonacci(i))"
   ]
  },
  {
   "cell_type": "code",
   "execution_count": 34,
   "id": "795618ef-052b-41f1-bfc9-0c2be234d7bf",
   "metadata": {},
   "outputs": [],
   "source": [
    "def fibo(num):\n",
    "    if num <= 1:\n",
    "        return num\n",
    "    if num == 2:\n",
    "        return 1\n",
    "    else:\n",
    "        return (fibo(num-1)+fibo(num-2))"
   ]
  },
  {
   "cell_type": "code",
   "execution_count": 40,
   "id": "86a28cc7-818a-438d-a2f3-418e1cc443c4",
   "metadata": {},
   "outputs": [
    {
     "name": "stdin",
     "output_type": "stream",
     "text": [
      "enter the fibo you want to get: 6\n"
     ]
    },
    {
     "name": "stdout",
     "output_type": "stream",
     "text": [
      "0\n",
      "1\n",
      "1\n",
      "2\n",
      "3\n",
      "5\n"
     ]
    }
   ],
   "source": [
    "num = int(input(\"enter the fibo you want to get:\"))\n",
    "for i in range(num):\n",
    "    print(fibo(i))"
   ]
  },
  {
   "cell_type": "code",
   "execution_count": 66,
   "id": "ad634f6d-aeed-4d62-a14a-68e233a31885",
   "metadata": {},
   "outputs": [],
   "source": [
    "def add2(*args):\n",
    "    return __builtin__.sum(args)"
   ]
  },
  {
   "cell_type": "code",
   "execution_count": 68,
   "id": "2adfd3ce-640c-43dd-a0fe-ad698006339a",
   "metadata": {},
   "outputs": [
    {
     "name": "stdout",
     "output_type": "stream",
     "text": [
      "11\n"
     ]
    }
   ],
   "source": [
    "print(add2(4,5,2))"
   ]
  },
  {
   "cell_type": "code",
   "execution_count": 70,
   "id": "68f46ed4-09cf-4e29-ab7a-f42368c5fa90",
   "metadata": {
    "scrolled": true
   },
   "outputs": [
    {
     "name": "stdout",
     "output_type": "stream",
     "text": [
      "32\n"
     ]
    }
   ],
   "source": [
    "l = [5,6,7,4,6,4]\n",
    "print(add2(*l))"
   ]
  },
  {
   "cell_type": "code",
   "execution_count": 94,
   "id": "780b1b76-a903-45ff-aea7-69927bfa6e16",
   "metadata": {},
   "outputs": [],
   "source": [
    "def User_details(**kwargs):\n",
    "    print(kwargs)"
   ]
  },
  {
   "cell_type": "code",
   "execution_count": 98,
   "id": "7133fca2-d58f-4058-89f7-7ecffa9f3ae4",
   "metadata": {},
   "outputs": [
    {
     "name": "stdout",
     "output_type": "stream",
     "text": [
      "{'Name': 'Asif', 'ID': 7412, 'Pincode': 41102, 'Age': 33, 'Country': 'In'}\n"
     ]
    }
   ],
   "source": [
    "mydict = {'Name': 'Asif', 'ID': 7412, 'Pincode': 41102, 'Age': 33, 'Country': 'In'}\n",
    "User_details(**mydict)"
   ]
  },
  {
   "cell_type": "code",
   "execution_count": 72,
   "id": "7c401a66-aac7-4c4e-a2f5-44751de52640",
   "metadata": {},
   "outputs": [],
   "source": []
  },
  {
   "cell_type": "code",
   "execution_count": 74,
   "id": "a90cc081-d682-48bc-b345-7deaad573a46",
   "metadata": {},
   "outputs": [
    {
     "name": "stdout",
     "output_type": "stream",
     "text": [
      "{'Name': 'ABHISHEK', 'ID': '69405', 'JOB_TITLE': 'DATA SCIENTIST'}\n"
     ]
    }
   ],
   "source": [
    "User_details(Name = 'ABHISHEK',ID='69405', JOB_TITLE='DATA SCIENTIST')\n"
   ]
  },
  {
   "cell_type": "code",
   "execution_count": 86,
   "id": "abb73446-2c3a-444f-9865-66f76aaf7b33",
   "metadata": {},
   "outputs": [],
   "source": [
    "def User_details(**kwargs):\n",
    "    for key,value in kwargs.items():\n",
    "        print(\"{} :- {}\".format(key,value))"
   ]
  },
  {
   "cell_type": "code",
   "execution_count": 88,
   "id": "6b731682-cf78-4373-b903-58f454dfd0c7",
   "metadata": {
    "scrolled": true
   },
   "outputs": [
    {
     "name": "stdout",
     "output_type": "stream",
     "text": [
      "Name :- ABHISHEK\n",
      "ID :- 69405\n",
      "JOB_TITLE :- DATA SCIENTIST\n"
     ]
    }
   ],
   "source": [
    "User_details(Name = 'ABHISHEK',ID='69405', JOB_TITLE='DATA SCIENTIST')"
   ]
  },
  {
   "cell_type": "markdown",
   "id": "72848136-f27d-4697-b577-dc83997edb8d",
   "metadata": {},
   "source": [
    "## Python if else, for loop,while loop and range()  Exercises with Solutions"
   ]
  },
  {
   "cell_type": "code",
   "execution_count": 12,
   "id": "0fae2815-79ab-4588-b48a-517ebb9850a5",
   "metadata": {},
   "outputs": [
    {
     "name": "stdout",
     "output_type": "stream",
     "text": [
      "1 3 5 7 9 11 13 15 17 19 19 "
     ]
    }
   ],
   "source": [
    "# Print the sum of the current number and the previous number Write a program to iterate the first\n",
    " #10 numbers and in each iteration, print the sum of the current and previous number.\n",
    "pre_num = 0\n",
    "for i in range(1,11):\n",
    "    x = i + pre_num\n",
    "    pre_num = i\n",
    "    print(x,end=\" \")\n",
    "\n",
    "# if asked about total sum of that \n",
    "pre_num = 0\n",
    "for i in range(1,11):\n",
    "    x = i + pre_num\n",
    "    pre_num = i\n",
    "print(x,end=\" \")"
   ]
  },
  {
   "cell_type": "code",
   "execution_count": 26,
   "id": "70da58f5-f26f-4574-88d1-3bd19d660ffe",
   "metadata": {},
   "outputs": [
    {
     "name": "stdin",
     "output_type": "stream",
     "text": [
      "enter the number to search in l1: 9\n"
     ]
    },
    {
     "name": "stdout",
     "output_type": "stream",
     "text": [
      "the number exists in l1\n"
     ]
    }
   ],
   "source": [
    "#  Write a python program to search a given number from a list\n",
    "l1=[4,5,6,2,3,9,1,4,5,6,3]\n",
    "n = int(input(\"enter the number to search in l1:\"))\n",
    "for i in l1:\n",
    "    if i==n:\n",
    "        print(\"the number exists in l1\")\n",
    "        break\n",
    "else:\n",
    "    print(\"the number not exists in l1\")\n"
   ]
  },
  {
   "cell_type": "code",
   "execution_count": 34,
   "id": "d62a88ce-1b31-4ba9-806e-cbdda4294aa6",
   "metadata": {},
   "outputs": [
    {
     "name": "stdin",
     "output_type": "stream",
     "text": [
      "enter the number 545\n"
     ]
    },
    {
     "name": "stdout",
     "output_type": "stream",
     "text": [
      "545\n",
      "the number is palindrome\n"
     ]
    }
   ],
   "source": [
    "#Check Palindrome Number Write a program to check if the given number is a palindrome number.\n",
    "\n",
    "n = int(input(\"enter the number\"))\n",
    "rev_num = str(n)[::-1]\n",
    "print(rev_num)\n",
    "if int(rev_num) == n:\n",
    "    print(\"the number is palindrome\")\n",
    "else:\n",
    "    print(\"the number is not palindrome\")"
   ]
  },
  {
   "cell_type": "code",
   "execution_count": 78,
   "id": "154c1b29-67ad-4443-af1a-a21a8cb1972d",
   "metadata": {},
   "outputs": [
    {
     "name": "stdout",
     "output_type": "stream",
     "text": [
      "1 2 3 4 5 6 7 8 9 10 \n",
      "\n",
      "2 4 6 8 10 12 14 16 18 20 \n",
      "\n",
      "3 6 9 12 15 18 21 24 27 30 \n",
      "\n",
      "4 8 12 16 20 24 28 32 36 40 \n",
      "\n",
      "5 10 15 20 25 30 35 40 45 50 \n",
      "\n",
      "6 12 18 24 30 36 42 48 54 60 \n",
      "\n",
      "7 14 21 28 35 42 49 56 63 70 \n",
      "\n",
      "8 16 24 32 40 48 56 64 72 80 \n",
      "\n",
      "9 18 27 36 45 54 63 72 81 90 \n",
      "\n",
      "10 20 30 40 50 60 70 80 90 100 \n",
      "\n"
     ]
    }
   ],
   "source": [
    "# print the multiplication table from 1 to 10 \n",
    "for i in range(1,11):\n",
    "    for j in range(1,11):\n",
    "        print(i*j,end = \" \")\n",
    "    print(\"\\n\")"
   ]
  },
  {
   "cell_type": "code",
   "execution_count": 86,
   "id": "905554a0-d2ce-48e2-a994-d4d7ac3f5917",
   "metadata": {},
   "outputs": [
    {
     "name": "stdin",
     "output_type": "stream",
     "text": [
      "enter the number: 135\n"
     ]
    },
    {
     "name": "stdout",
     "output_type": "stream",
     "text": [
      "135 is not an Armstrong number.\n"
     ]
    }
   ],
   "source": [
    "#An Armstrong number (also known as a narcissistic number, pluperfect digital invariant, or pluperfect digital invariant) is a number that is equal to the sum of its own digits each raised to the power of the number of digits.\n",
    "\n",
    "n = int(input(\"enter the number:\"))\n",
    "nums_digit = len(str(n))\n",
    "sum_of_power = sum(int(digit)**nums_digit for digit in str(n))\n",
    "if sum_of_power == n:\n",
    "    print(f\"{n} is an Armstrong number.\")\n",
    "else:\n",
    "    print(f\"{n} is not an Armstrong number.\")"
   ]
  },
  {
   "cell_type": "code",
   "execution_count": 90,
   "id": "7b441848-85e8-47fe-8d46-f52b7408db8e",
   "metadata": {},
   "outputs": [
    {
     "name": "stdout",
     "output_type": "stream",
     "text": [
      "[153, 370, 371, 407]\n"
     ]
    }
   ],
   "source": [
    "# Print all the armstrong numbers in the range of 100 to 1000\n",
    "armstrong_list = []\n",
    "for i in range(100,1000):\n",
    "    a = i%10 \n",
    "    z = i//10\n",
    "    b = z%10\n",
    "    c = z//10\n",
    "    if ((a)**3) + ((b)**3) + ((c)**3) == i:\n",
    "        armstrong_list.append(i)\n",
    "print(armstrong_list)"
   ]
  },
  {
   "cell_type": "markdown",
   "id": "1dfedcbc-e32d-4b77-9f9d-9399a2d6ba30",
   "metadata": {},
   "source": [
    " Python functions"
   ]
  },
  {
   "cell_type": "code",
   "execution_count": 92,
   "id": "4530e8fc-35fc-4f68-b9ec-f77d4471ee0b",
   "metadata": {},
   "outputs": [],
   "source": [
    "def exponent(base,exp):\n",
    "    result = pow(base,exp)\n",
    "    print(result)"
   ]
  },
  {
   "cell_type": "code",
   "execution_count": 94,
   "id": "4d990408-550e-4e02-8cd9-c71fc36f5332",
   "metadata": {
    "scrolled": true
   },
   "outputs": [
    {
     "name": "stdout",
     "output_type": "stream",
     "text": [
      "10000\n"
     ]
    }
   ],
   "source": [
    "exponent(100,2)"
   ]
  },
  {
   "cell_type": "code",
   "execution_count": 100,
   "id": "10ceec2a-4b4c-400d-af58-e057745a1246",
   "metadata": {},
   "outputs": [],
   "source": [
    "# Write a program to create a function that takes two arguments,name and age, and print their value.\n",
    "def biodata(name,age):\n",
    "    print(\"The name of the persom is {} and age of the person is {}.\".format(name,age))"
   ]
  },
  {
   "cell_type": "code",
   "execution_count": 98,
   "id": "3dc16fed-90b8-46d3-be80-ef26d432d29f",
   "metadata": {},
   "outputs": [
    {
     "name": "stdout",
     "output_type": "stream",
     "text": [
      "The name of the persom is Kalyan and age of the person is 28\n"
     ]
    }
   ],
   "source": [
    "biodata(\"Kalyan\",28)"
   ]
  },
  {
   "cell_type": "code",
   "execution_count": 108,
   "id": "260efe4c-32bf-4979-bd6f-697d854d8c53",
   "metadata": {},
   "outputs": [
    {
     "name": "stdout",
     "output_type": "stream",
     "text": [
      "yes first and last num are same\n"
     ]
    }
   ],
   "source": [
    "#Write a function to return True if the first and last number of a given list is same. If numbers are different then return False.\n",
    "l1=[1,2,3,4,5,1]\n",
    "num1 = l1[0]\n",
    "num2 = l1[-1]\n",
    "def xyz(list):\n",
    "    if num1 == num2:\n",
    "        print(\"yes first and last num are same\")\n",
    "    else:\n",
    "        print(\"no they are not same\")\n",
    "    \n",
    "xyz(l1)"
   ]
  },
  {
   "cell_type": "code",
   "execution_count": 110,
   "id": "98d5f75e-80e8-4f8c-a6cd-bae57427dba5",
   "metadata": {},
   "outputs": [],
   "source": [
    "# # Create an inner function to calculate the addition in the following way\n",
    "#  Create an outer function that will accept two parameters, a and b\n",
    "#  Create an inner function inside an outer function that will calculate the addition of a and b\n",
    "#  At last, an outer function will add 5 into addition and return it\n",
    "\n",
    "def outer_func(n1,n2):\n",
    "    def inner_func(n1,n2):\n",
    "        return n1+n2\n",
    "    add = inner_func(n1,n2)\n",
    "    return add , add +5"
   ]
  },
  {
   "cell_type": "code",
   "execution_count": 112,
   "id": "7884f2e7-eab8-495d-b5aa-b92c40eefedc",
   "metadata": {},
   "outputs": [
    {
     "data": {
      "text/plain": [
       "(105, 110)"
      ]
     },
     "execution_count": 112,
     "metadata": {},
     "output_type": "execute_result"
    }
   ],
   "source": [
    "outer_func(5,100)"
   ]
  },
  {
   "cell_type": "code",
   "execution_count": 118,
   "id": "64c3bb5f-1a95-49d7-bd79-80e48dfe9a46",
   "metadata": {},
   "outputs": [],
   "source": [
    "# factorial of a number using recursion\n",
    "def factorial(n):\n",
    "    if n<=1:\n",
    "        return 1\n",
    "    else:\n",
    "        return n*factorial(n-1)"
   ]
  },
  {
   "cell_type": "code",
   "execution_count": 120,
   "id": "6f725333-3f6a-4763-b663-a208d73c2b90",
   "metadata": {},
   "outputs": [
    {
     "data": {
      "text/plain": [
       "24"
      ]
     },
     "execution_count": 120,
     "metadata": {},
     "output_type": "execute_result"
    }
   ],
   "source": [
    "factorial(4)"
   ]
  },
  {
   "cell_type": "code",
   "execution_count": 3,
   "id": "b4b75c32-c1fd-4944-936b-3f15d03d49dd",
   "metadata": {},
   "outputs": [
    {
     "name": "stdin",
     "output_type": "stream",
     "text": [
      "enter the number: 4\n"
     ]
    },
    {
     "name": "stdout",
     "output_type": "stream",
     "text": [
      "0 1 1 2 "
     ]
    }
   ],
   "source": [
    "#  Print the first 20 numbers of a Fibonacci series.\n",
    "n = int(input(\"enter the number:\"))\n",
    "def fibo(n):\n",
    "    a = 0\n",
    "    b = 1\n",
    "    count = 0\n",
    "    if n <= 0 : \n",
    "        print(\"you can only enter non negative \")\n",
    "    elif n ==1 :\n",
    "        print(a)\n",
    "    else:\n",
    "        while count < n:\n",
    "            print(a,end=\" \")\n",
    "            c = a+b\n",
    "            a = b\n",
    "            b = c\n",
    "            \n",
    "            count += 1\n",
    "fibo(n)"
   ]
  },
  {
   "cell_type": "markdown",
   "id": "a14ae2d6-cea0-4024-8340-c083d795f1d7",
   "metadata": {},
   "source": [
    "strings"
   ]
  },
  {
   "cell_type": "code",
   "execution_count": 3,
   "id": "32e8758c-6684-49dc-92d1-79b7f7b79bc0",
   "metadata": {},
   "outputs": [
    {
     "name": "stdin",
     "output_type": "stream",
     "text": [
      "enter the text amrapali\n"
     ]
    },
    {
     "name": "stdout",
     "output_type": "stream",
     "text": [
      "['a', 'm', 'r', 'a', 'p', 'a', 'l', 'i']\n",
      "a r p l "
     ]
    }
   ],
   "source": [
    "# Write a program to accept a string from the user and display characters that are present at an even index number.\n",
    "str = input(\"enter the text\")\n",
    "x = list(str)\n",
    "print(x)\n",
    "for i in x[0::2]:\n",
    "    print(i,end=\" \")\n",
    "    "
   ]
  },
  {
   "cell_type": "code",
   "execution_count": 27,
   "id": "2a68b44d-05a0-4b50-bad0-ae81bad557d6",
   "metadata": {},
   "outputs": [],
   "source": [
    "# Write a program to remove characters from a string starting from zero up to n and return a new string.\n",
    "def remove(word,n):\n",
    "    x = len(word)\n",
    "    p = list(word)\n",
    "    for i in p:\n",
    "        if n <= x:\n",
    "            z = word[n:]\n",
    "    print(z) "
   ]
  },
  {
   "cell_type": "code",
   "execution_count": 29,
   "id": "ff9075e6-e197-492d-afb6-c65e7d4dab82",
   "metadata": {
    "scrolled": true
   },
   "outputs": [
    {
     "name": "stdout",
     "output_type": "stream",
     "text": [
      "aige\n"
     ]
    }
   ],
   "source": [
    "remove(\"marraige\",4)"
   ]
  },
  {
   "cell_type": "code",
   "execution_count": 33,
   "id": "619c0d59-65ea-459a-914b-903b2ec15fde",
   "metadata": {},
   "outputs": [
    {
     "name": "stdout",
     "output_type": "stream",
     "text": [
      "a\n",
      "k\n",
      "s\n"
     ]
    },
    {
     "data": {
      "text/plain": [
       "'a s k'"
      ]
     },
     "execution_count": 33,
     "metadata": {},
     "output_type": "execute_result"
    }
   ],
   "source": [
    "#  Create a string made of the first, middle and last character\n",
    "name = \"abhishek\"\n",
    "\n",
    "a = name[0]\n",
    "print(a)\n",
    "\n",
    "c = name[-1]\n",
    "print(c)\n",
    "\n",
    "l = len(name)\n",
    "x = int(l//2)\n",
    "\n",
    "b = name[x]\n",
    "print(b)\n",
    "\n",
    "\" \".join([a,b,c])\n"
   ]
  },
  {
   "cell_type": "markdown",
   "id": "7a6f999d-44ec-4eb5-8637-ffeaac959a3f",
   "metadata": {},
   "source": [
    "Python Data Structure Exercise for Beginners"
   ]
  },
  {
   "cell_type": "code",
   "execution_count": 4,
   "id": "9cbd8d00-c2d2-46ce-b2c8-081811ec5085",
   "metadata": {},
   "outputs": [
    {
     "name": "stdout",
     "output_type": "stream",
     "text": [
      "[3, 9, 15, 21, 8, 16, 24]\n"
     ]
    }
   ],
   "source": [
    "#  write a program to create a third list l3 by picking an odd-index element from the list l1 and even index elements from the list l2.\n",
    "l1 = [3, 6, 9, 12, 15, 18, 21]\n",
    "l2 = [4, 8, 12, 16, 20, 24, 28]\n",
    "l3 = []\n",
    "\n",
    "for i in l1[0::2]:\n",
    "    l3.append(i)\n",
    "for i in l2[1::2]:\n",
    "    l3.append(i)\n",
    "print(l3)"
   ]
  },
  {
   "cell_type": "code",
   "execution_count": 22,
   "id": "5bfda70a-f498-4fff-893e-e66a657d509b",
   "metadata": {},
   "outputs": [
    {
     "name": "stdout",
     "output_type": "stream",
     "text": [
      "{11: 2, 45: 3, 8: 1, 23: 2, 89: 1}\n"
     ]
    }
   ],
   "source": [
    "list1 = [11, 45, 8, 11, 23, 45, 23, 45, 89]\n",
    "\n",
    "count = dict()\n",
    "for i in list1:\n",
    "    if i in count:\n",
    "        count[i] += 1\n",
    "    else:\n",
    "        count[i] = 1\n",
    "print(count)\n"
   ]
  },
  {
   "cell_type": "code",
   "execution_count": 2,
   "id": "4bdddaa1-9c91-4d91-85e2-d7125db1f790",
   "metadata": {
    "scrolled": true
   },
   "outputs": [
    {
     "name": "stdout",
     "output_type": "stream",
     "text": [
      "1 2\n",
      "1 3\n",
      "1 4\n",
      "2 1\n",
      "2 3\n",
      "2 4\n",
      "3 1\n",
      "3 2\n",
      "3 4\n",
      "4 1\n",
      "4 2\n",
      "4 3\n"
     ]
    }
   ],
   "source": [
    "# program to print unique combinations of two digit number from 1 to 4.\n",
    "for i in range(1,5):\n",
    "    for j in range(1,5):\n",
    "        if i != j :\n",
    "            print(i,j)\n",
    "        "
   ]
  },
  {
   "cell_type": "code",
   "execution_count": 3,
   "id": "3d10e25d-4fab-4fb3-9e41-5d78c4c8d6ec",
   "metadata": {},
   "outputs": [
    {
     "name": "stdin",
     "output_type": "stream",
     "text": [
      "Enter the Number: 5\n"
     ]
    },
    {
     "name": "stdout",
     "output_type": "stream",
     "text": [
      "it is a prime\n"
     ]
    }
   ],
   "source": [
    "# check the prine number or not \n",
    "\n",
    "x = int(input(\"Enter the Number:\"))\n",
    "new=[]\n",
    "if x==1:\n",
    "    print(\" It is not the prime number\")\n",
    "else:\n",
    "    for i in range(1,x+1):\n",
    "        if x%i == 0:\n",
    "            new.append(i)\n",
    "    if len(new) > 2:\n",
    "        print(\"it is not a prime\")\n",
    "    else:\n",
    "        print(\"it is a prime\")\n",
    "        "
   ]
  },
  {
   "cell_type": "code",
   "execution_count": 7,
   "id": "888e7b12-1c8b-4413-8238-9d0e234e55ce",
   "metadata": {},
   "outputs": [
    {
     "name": "stdin",
     "output_type": "stream",
     "text": [
      "Enter the first number: 4\n",
      "Enter the second number: 2\n"
     ]
    },
    {
     "name": "stdout",
     "output_type": "stream",
     "text": [
      "The HCF of the two numebrs is 2\n"
     ]
    }
   ],
   "source": [
    "# checking the HCF of the two numbers\n",
    "\n",
    "x = int(input(\"Enter the first number:\"))\n",
    "y = int(input(\"Enter the second number:\"))\n",
    "\n",
    "x_div = []\n",
    "for i in range(1,x+1):\n",
    "    if x%i == 0:\n",
    "        x_div.append(i)\n",
    "y_div = []\n",
    "for i in range(1,y+1):\n",
    "    if y%i == 0:\n",
    "        y_div.append(i)\n",
    "\n",
    "common_div = []\n",
    "\n",
    "for i in x_div:\n",
    "    if i in y_div:\n",
    "        common_div.append(i)\n",
    "\n",
    "print(\"The HCF of the two numebrs is {}\".format(max(common_div)))"
   ]
  }
 ],
 "metadata": {
  "kernelspec": {
   "display_name": "Python 3 (ipykernel)",
   "language": "python",
   "name": "python3"
  },
  "language_info": {
   "codemirror_mode": {
    "name": "ipython",
    "version": 3
   },
   "file_extension": ".py",
   "mimetype": "text/x-python",
   "name": "python",
   "nbconvert_exporter": "python",
   "pygments_lexer": "ipython3",
   "version": "3.11.7"
  }
 },
 "nbformat": 4,
 "nbformat_minor": 5
}
