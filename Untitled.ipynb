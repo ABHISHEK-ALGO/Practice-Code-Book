{
 "cells": [
  {
   "cell_type": "code",
   "execution_count": 4,
   "id": "2f2a8f7d-a909-43d7-b56c-8b4dd389e8cd",
   "metadata": {},
   "outputs": [
    {
     "name": "stdin",
     "output_type": "stream",
     "text": [
      "Enter the first number: 6\n",
      "Enter the second number: 5\n"
     ]
    },
    {
     "name": "stdout",
     "output_type": "stream",
     "text": [
      "6 5\n",
      "5 6\n"
     ]
    }
   ],
   "source": [
    "# Swap the number without using third variable\n",
    "x = int(input(\"Enter the first number:\"))\n",
    "y = int(input(\"Enter the second number:\"))\n",
    "print(x,y)\n",
    "x = x+y\n",
    "y = x-y\n",
    "x = x-y\n",
    "print(x,y)"
   ]
  },
  {
   "cell_type": "code",
   "execution_count": 34,
   "id": "c71a79fd-8efc-4d9d-8684-10c468c34f54",
   "metadata": {},
   "outputs": [
    {
     "name": "stdin",
     "output_type": "stream",
     "text": [
      "Enter the string to be reversed: 9876\n"
     ]
    },
    {
     "name": "stdout",
     "output_type": "stream",
     "text": [
      "6789\n"
     ]
    }
   ],
   "source": [
    "# Reverse the given string\n",
    "x = int(input(\"Enter the string to be reversed:\"))\n",
    "n = str(x)[::-1]\n",
    "type(n)\n",
    "print(n)\n"
   ]
  },
  {
   "cell_type": "code",
   "execution_count": 38,
   "id": "d69b2d29-379d-42ef-9883-26a4edd43cda",
   "metadata": {},
   "outputs": [
    {
     "name": "stdin",
     "output_type": "stream",
     "text": [
      "Enter the 3 digit number: 123\n"
     ]
    },
    {
     "name": "stdout",
     "output_type": "stream",
     "text": [
      "6\n"
     ]
    }
   ],
   "source": [
    "# find the sum of three digit number\n",
    "x = int(input(\"Enter the 3 digit number:\"))#123\n",
    "a = x%10 # gives last digit 3\n",
    "n = x//10# gives remaining 12\n",
    "b = n%10 # gives 2\n",
    "c = n//10 # remaining 1\n",
    "print(a+b+c)"
   ]
  },
  {
   "cell_type": "code",
   "execution_count": 48,
   "id": "33d5418d-1435-45cc-9088-9e4ebc5f9f2d",
   "metadata": {},
   "outputs": [
    {
     "name": "stdin",
     "output_type": "stream",
     "text": [
      "Enter the 4 digit number 0987\n"
     ]
    },
    {
     "name": "stdout",
     "output_type": "stream",
     "text": [
      "7890\n",
      "Yes reverse\n"
     ]
    }
   ],
   "source": [
    "# find the reverse of four digit number and find it is true or not \n",
    "x = int(input(\"Enter the 4 digit number\"))\n",
    "a = x%10\n",
    "num1= x//10\n",
    "b = num1%10\n",
    "num2 = num1//10\n",
    "c = num2%10\n",
    "num3 = num2//10\n",
    "d = num3%10\n",
    "rev = 1000*a+100*b+10*c+d\n",
    "print(rev)\n",
    "if x == rev:\n",
    "    print(\"Not reverse\")\n",
    "else:\n",
    "    print(\"Yes reverse\")\n",
    "    "
   ]
  },
  {
   "cell_type": "code",
   "execution_count": 58,
   "id": "61e65ce4-9b52-4966-8100-0cbdbee2484c",
   "metadata": {},
   "outputs": [
    {
     "name": "stdin",
     "output_type": "stream",
     "text": [
      "enter X1 : 6\n",
      "enter X2 : 3\n",
      "enter Y1 : 7\n",
      "enter Y2 : 8\n"
     ]
    },
    {
     "name": "stdout",
     "output_type": "stream",
     "text": [
      "========================================================================================================================================================================================================\n",
      "euclidean distance between given coordinates is: 3.16\n"
     ]
    }
   ],
   "source": [
    "# find distance between two points \n",
    "\n",
    "import math\n",
    "x1 = int(input(\"enter X1 :\"))\n",
    "x2 = int(input(\"enter X2 :\"))\n",
    "y1 = int(input(\"enter Y1 :\"))\n",
    "y2 = int(input(\"enter Y2 :\"))\n",
    "print(\"==\"*100)\n",
    "x = [x1,y1]\n",
    "y = [x2,y2]\n",
    "print(\"euclidean distance between given coordinates is:\",round(math.dist(x,y),2))"
   ]
  },
  {
   "cell_type": "code",
   "execution_count": 62,
   "id": "9992e4d3-e6d0-4d79-8b4e-38f57cb09e17",
   "metadata": {},
   "outputs": [
    {
     "name": "stdin",
     "output_type": "stream",
     "text": [
      "Enter the number: 18\n"
     ]
    },
    {
     "name": "stdout",
     "output_type": "stream",
     "text": [
      "the number is divisible by 3 and 6\n"
     ]
    }
   ],
   "source": [
    "# tell whetehr the number is divisible by 3 and 6 or not\n",
    "num = int(input(\"Enter the number:\"))\n",
    "if num%3==0 & num%6==0:\n",
    "    print(\"the number is divisible by 3 and 6\")\n",
    "else:\n",
    "    print(\"the number is not divisible by 3 and 6\")"
   ]
  },
  {
   "cell_type": "code",
   "execution_count": 66,
   "id": "e752069b-7c71-40e7-a5f3-682a0084a3c1",
   "metadata": {},
   "outputs": [
    {
     "name": "stdin",
     "output_type": "stream",
     "text": [
      "Enter the 3 digit number: 876\n"
     ]
    },
    {
     "name": "stdout",
     "output_type": "stream",
     "text": [
      "149\n"
     ]
    }
   ],
   "source": [
    "# take three input and print their square as output \n",
    "n = int(input(\"Enter the 3 digit number:\"))\n",
    "x = n%10\n",
    "num1 = n//10\n",
    "a = num1%10\n",
    "num2 = num1//10\n",
    "b = num2%10\n",
    "num3 = num//10\n",
    "output = (x**2+a**2+b**2)\n",
    "print(output)"
   ]
  },
  {
   "cell_type": "code",
   "execution_count": 74,
   "id": "1d8925dc-04cb-4805-be75-aaaf333459c3",
   "metadata": {},
   "outputs": [
    {
     "name": "stdin",
     "output_type": "stream",
     "text": [
      "Enter the 3 digit number 371\n"
     ]
    },
    {
     "name": "stdout",
     "output_type": "stream",
     "text": [
      "The number is Armstrong\n"
     ]
    }
   ],
   "source": [
    "# check whether the 3 digit number is armstrong number or not \n",
    "n = int(input(\"Enter the 3 digit number\"))\n",
    "a = n%10\n",
    "num1 = n//10\n",
    "b = num1%10\n",
    "c = num1//10\n",
    "\n",
    "if (a**3+b**3+c**3) ==n :\n",
    "    print(\"The number is Armstrong\")\n",
    "else:\n",
    "    print(\"the number is not Armstrong\")"
   ]
  },
  {
   "cell_type": "code",
   "execution_count": 82,
   "id": "bb0856a8-43ee-4208-a19e-715a725e1f8f",
   "metadata": {
    "scrolled": true
   },
   "outputs": [
    {
     "name": "stdout",
     "output_type": "stream",
     "text": [
      "the *name *is *good\n"
     ]
    }
   ],
   "source": [
    "print(\"the\",\"name\",\"is\", \"good\",sep = \" *\")"
   ]
  },
  {
   "cell_type": "code",
   "execution_count": 100,
   "id": "8ca7dbac-4678-461d-a6a3-f9914276500a",
   "metadata": {},
   "outputs": [
    {
     "name": "stdout",
     "output_type": "stream",
     "text": [
      "7.98\n"
     ]
    }
   ],
   "source": [
    "num = 7.98474\n",
    "print(float(round(num,2)))"
   ]
  },
  {
   "cell_type": "code",
   "execution_count": 104,
   "id": "bd849874-f321-469e-b42e-4fe103072690",
   "metadata": {},
   "outputs": [
    {
     "name": "stdin",
     "output_type": "stream",
     "text": [
      "enter the number 87\n"
     ]
    },
    {
     "name": "stdout",
     "output_type": "stream",
     "text": [
      "these are the factors 1\n",
      "these are the factors 3\n",
      "these are the factors 29\n",
      "these are the factors 87\n"
     ]
    }
   ],
   "source": [
    "# print all factors of the given number provided by the user\n",
    "n = int(input(\"enter the number\"))\n",
    "for i in range(1,n+1):\n",
    "    if n%i==0:\n",
    "        print(\"these are the factors\",i)"
   ]
  },
  {
   "cell_type": "code",
   "execution_count": 120,
   "id": "00a2d6a5-f800-4fdd-85a9-bebefe01bfac",
   "metadata": {},
   "outputs": [
    {
     "name": "stdin",
     "output_type": "stream",
     "text": [
      "Enter the number 6.7\n",
      "Enter the number 7.8\n",
      "Enter the number 5.7\n",
      "Enter the number 7.8\n"
     ]
    },
    {
     "name": "stdout",
     "output_type": "stream",
     "text": [
      "[6.7, 7.8, 5.7, 7.8]\n"
     ]
    }
   ],
   "source": [
    "# Accept a list of 5 float numbers as an input from the user\n",
    "\n",
    "ln = []\n",
    "while len(ln) <3:\n",
    "    n = float(input(\"Enter the number\"))\n",
    "    ln.append(n)\n",
    "print(ln)        "
   ]
  },
  {
   "cell_type": "code",
   "execution_count": 128,
   "id": "f07255c8-7d28-4d00-995e-e070aed1eb15",
   "metadata": {},
   "outputs": [
    {
     "name": "stdin",
     "output_type": "stream",
     "text": [
      "enter the three names with keeping space in between:  abhi ban maska\n"
     ]
    },
    {
     "name": "stdout",
     "output_type": "stream",
     "text": [
      "['abhi', 'ban', 'maska']\n",
      "ban\n"
     ]
    }
   ],
   "source": [
    "inp=input(\"enter the three names with keeping space in between: \")\n",
    "sep=inp.split()\n",
    "n1 = sep[0]\n",
    "n2 = sep[1]\n",
    "print(sep)\n",
    "print(n2)"
   ]
  },
  {
   "cell_type": "code",
   "execution_count": 134,
   "id": "d6be39ff-fa0a-4be6-8e92-cdf765063eef",
   "metadata": {},
   "outputs": [
    {
     "name": "stdout",
     "output_type": "stream",
     "text": [
      "I have 1000 dollars so I can buy 4 for 450 dollars each\n"
     ]
    }
   ],
   "source": [
    "total_money = 1000\n",
    "quantity = 4\n",
    "price = 450\n",
    "print(\"I have {} dollars so I can buy {} for {} dollars each\".format(total_money,quantity,price))"
   ]
  },
  {
   "cell_type": "code",
   "execution_count": 138,
   "id": "82eec36f-e1e2-41cc-a66a-132985d1e168",
   "metadata": {},
   "outputs": [
    {
     "name": "stdout",
     "output_type": "stream",
     "text": [
      "file is not empty\n"
     ]
    }
   ],
   "source": [
    "import os\n",
    "size=os.stat(\"sample.txt\").st_size\n",
    "if size==0:\n",
    " print(\"file is empty\")\n",
    "else:\n",
    " print(\"file is not empty\")"
   ]
  },
  {
   "cell_type": "code",
   "execution_count": 146,
   "id": "e4fd34dd-9786-41e2-8e2d-cbc1aef02355",
   "metadata": {},
   "outputs": [
    {
     "name": "stdout",
     "output_type": "stream",
     "text": [
      "is weather fine at your place or not\n",
      "is weather fine at your place or not\n"
     ]
    }
   ],
   "source": [
    "with open(\"sample.txt\") as fp:\n",
    "    lines = fp.readlines()\n",
    "print(lines[1])\n",
    "\n",
    "with open(\"sample.txt\") as fp:\n",
    "    lines = fp.readlines()\n",
    "print(lines[1])"
   ]
  },
  {
   "cell_type": "code",
   "execution_count": 152,
   "id": "b296a3ae-810c-45b1-8dc6-0d6c82338c7f",
   "metadata": {},
   "outputs": [],
   "source": [
    "with open(\"sample.txt\",'r') as fp:\n",
    "    lines = fp.readlines()\n",
    "    \n",
    "with open(\"sample_txt.txt\",'w') as fp:\n",
    "    count = 0\n",
    "    for line in lines:\n",
    "        if count ==4:\n",
    "            count =+1\n",
    "            continue\n",
    "        else:\n",
    "            fp.write(line)\n",
    "        count = +1"
   ]
  }
 ],
 "metadata": {
  "kernelspec": {
   "display_name": "Python 3 (ipykernel)",
   "language": "python",
   "name": "python3"
  },
  "language_info": {
   "codemirror_mode": {
    "name": "ipython",
    "version": 3
   },
   "file_extension": ".py",
   "mimetype": "text/x-python",
   "name": "python",
   "nbconvert_exporter": "python",
   "pygments_lexer": "ipython3",
   "version": "3.11.7"
  }
 },
 "nbformat": 4,
 "nbformat_minor": 5
}
