{
 "cells": [
  {
   "cell_type": "code",
   "execution_count": 1,
   "id": "30b71666-d470-4199-b0d8-6632094ad224",
   "metadata": {},
   "outputs": [],
   "source": [
    "import sys \n",
    "import keyword\n",
    "import os\n",
    "import operator\n",
    "import datetime as datetime"
   ]
  },
  {
   "cell_type": "code",
   "execution_count": 7,
   "id": "c5c3b51a-6869-41c6-9888-01592ca07697",
   "metadata": {},
   "outputs": [
    {
     "name": "stdout",
     "output_type": "stream",
     "text": [
      "35\n"
     ]
    }
   ],
   "source": [
    "print(len(keyword.kwlist))"
   ]
  },
  {
   "cell_type": "code",
   "execution_count": 91,
   "id": "3a7b4079-3c03-4337-8bfa-18d1f055b389",
   "metadata": {},
   "outputs": [],
   "source": [
    "p1 = 20 + 30 \\\n",
    " + 40 + 50 +\\\n",
    " + 70 \n",
    "p1\n",
    "p2  = p1+5"
   ]
  },
  {
   "cell_type": "code",
   "execution_count": 93,
   "id": "4bbd3541-c539-4e93-b654-a9a854c8fb89",
   "metadata": {},
   "outputs": [
    {
     "data": {
      "text/plain": [
       "'0x7fff3493dde8'"
      ]
     },
     "execution_count": 93,
     "metadata": {},
     "output_type": "execute_result"
    }
   ],
   "source": [
    "id(p1)\n",
    "hex(id(p2))"
   ]
  },
  {
   "cell_type": "code",
   "execution_count": 65,
   "id": "b54d0a70-855a-4cba-976f-c0c36d0e2b98",
   "metadata": {},
   "outputs": [
    {
     "name": "stdout",
     "output_type": "stream",
     "text": [
      "0\n",
      "1\n",
      "2\n",
      "3\n",
      "4\n",
      "5\n",
      "50\n"
     ]
    }
   ],
   "source": [
    "i = 50\n",
    "for j in range(0,6):\n",
    "    print(j)\n",
    "print(i)"
   ]
  },
  {
   "cell_type": "code",
   "execution_count": 67,
   "id": "00d6d47e-13e3-4c8d-bffd-2b0fe40a02dc",
   "metadata": {},
   "outputs": [],
   "source": [
    "# Docstring use case\n",
    "def evenodd(num):\n",
    "    ''' This function is going to test whether the given number is even or odd'''\n",
    "    if num%2 == 0:\n",
    "        print(\"the given number is even\")\n",
    "    else:\n",
    "        print(\"the number is odd\")"
   ]
  },
  {
   "cell_type": "code",
   "execution_count": 73,
   "id": "9b6f9ad0-f82c-4027-82fc-5ccb38edaab0",
   "metadata": {},
   "outputs": [
    {
     "name": "stdout",
     "output_type": "stream",
     "text": [
      "the number is odd\n"
     ]
    },
    {
     "data": {
      "text/plain": [
       "' This function is going to test whether the given number is even or odd'"
      ]
     },
     "execution_count": 73,
     "metadata": {},
     "output_type": "execute_result"
    }
   ],
   "source": [
    "evenodd(67)\n",
    "evenodd.__doc__"
   ]
  },
  {
   "cell_type": "code",
   "execution_count": 109,
   "id": "08f6890d-9abe-4cb7-a6f0-e80ba8ffe698",
   "metadata": {},
   "outputs": [
    {
     "name": "stdout",
     "output_type": "stream",
     "text": [
      "<class 'int'>\n",
      "28\n",
      "68 is integer? True\n"
     ]
    }
   ],
   "source": [
    "n = 68\n",
    "print(type(n))\n",
    "print(sys.getsizeof(n))\n",
    "print(n,\"is integer?\",isinstance(n,int))"
   ]
  },
  {
   "cell_type": "code",
   "execution_count": 167,
   "id": "7f6fdfbf-262f-49a9-bc8a-5cf3123d970f",
   "metadata": {},
   "outputs": [
    {
     "name": "stdout",
     "output_type": "stream",
     "text": [
      "Friend\n"
     ]
    }
   ],
   "source": [
    "n = 'Hello Friend'\n",
    "print(n[-6:])"
   ]
  },
  {
   "cell_type": "code",
   "execution_count": 149,
   "id": "a91fb197-9236-4e6e-a3c7-24e8aa5a3395",
   "metadata": {
    "scrolled": true
   },
   "outputs": [
    {
     "name": "stdout",
     "output_type": "stream",
     "text": [
      "(0, 'H')\n",
      "(1, 'e')\n",
      "(2, 'l')\n",
      "(3, 'l')\n",
      "(4, 'o')\n",
      "(5, ' ')\n",
      "(6, 'F')\n",
      "(7, 'r')\n",
      "(8, 'i')\n",
      "(9, 'e')\n",
      "(10, 'n')\n",
      "(11, 'd')\n"
     ]
    }
   ],
   "source": [
    "for i in enumerate(n):\n",
    "    print(i)\n",
    "    "
   ]
  },
  {
   "cell_type": "code",
   "execution_count": 157,
   "id": "b84f8ad6-1dd7-4650-b05b-30abb713dee7",
   "metadata": {},
   "outputs": [
    {
     "data": {
      "text/plain": [
       "[(0, 'H'),\n",
       " (1, 'e'),\n",
       " (2, 'l'),\n",
       " (3, 'l'),\n",
       " (4, 'o'),\n",
       " (5, ' '),\n",
       " (6, 'F'),\n",
       " (7, 'r'),\n",
       " (8, 'i'),\n",
       " (9, 'e'),\n",
       " (10, 'n'),\n",
       " (11, 'd')]"
      ]
     },
     "execution_count": 157,
     "metadata": {},
     "output_type": "execute_result"
    }
   ],
   "source": [
    "list(enumerate(n))"
   ]
  },
  {
   "cell_type": "code",
   "execution_count": 145,
   "id": "ca1c52f1-bf7a-4bd3-a346-96aa1809d497",
   "metadata": {
    "scrolled": true
   },
   "outputs": [
    {
     "ename": "NameError",
     "evalue": "name 'n' is not defined",
     "output_type": "error",
     "traceback": [
      "\u001b[1;31m---------------------------------------------------------------------------\u001b[0m",
      "\u001b[1;31mNameError\u001b[0m                                 Traceback (most recent call last)",
      "Cell \u001b[1;32mIn[145], line 1\u001b[0m\n\u001b[1;32m----> 1\u001b[0m \u001b[38;5;28;01mdel\u001b[39;00m(n)\n\u001b[0;32m      2\u001b[0m \u001b[38;5;28mprint\u001b[39m(n)\n",
      "\u001b[1;31mNameError\u001b[0m: name 'n' is not defined"
     ]
    }
   ],
   "source": [
    "del(n)\n",
    "print(n)"
   ]
  },
  {
   "cell_type": "code",
   "execution_count": 163,
   "id": "d851991d-2bf3-4df3-88f1-f13a39a828ca",
   "metadata": {},
   "outputs": [
    {
     "name": "stdout",
     "output_type": "stream",
     "text": [
      "('who is anthony gonsalvas ', 'tell', ' me')\n"
     ]
    }
   ],
   "source": [
    "n = \"who is anthony gonsalvas tell me\"\n",
    "print(n.partition(\"tell\"))"
   ]
  },
  {
   "cell_type": "code",
   "execution_count": 181,
   "id": "4aa6f211-3b80-49db-84bc-8ab459c010a3",
   "metadata": {},
   "outputs": [
    {
     "data": {
      "text/plain": [
       "'ello Good Morning *******'"
      ]
     },
     "execution_count": 181,
     "metadata": {},
     "output_type": "execute_result"
    }
   ],
   "source": [
    "my_str = \"Hello Good Morning *******\"\n",
    "my_str.lstrip('H')"
   ]
  },
  {
   "cell_type": "code",
   "execution_count": 189,
   "id": "14001547-932d-4b24-9c48-f8e4bc1d41b5",
   "metadata": {},
   "outputs": [
    {
     "name": "stdout",
     "output_type": "stream",
     "text": [
      "the numbers are , 4 and 6\n"
     ]
    }
   ],
   "source": [
    "n1 = 4\n",
    "n2 = 6\n",
    "print(\"the numbers are , {} and {}\".format(n1,n2))"
   ]
  },
  {
   "cell_type": "code",
   "execution_count": 193,
   "id": "595e192f-de37-48c9-b31f-013ecf6c7218",
   "metadata": {},
   "outputs": [
    {
     "name": "stdout",
     "output_type": "stream",
     "text": [
      "my favourite bollywood movie is \" Bahubali\"\n"
     ]
    }
   ],
   "source": [
    "my=\"my favourite bollywood movie is \\\" Bahubali\\\"\"\n",
    "print(my)"
   ]
  },
  {
   "cell_type": "code",
   "execution_count": 203,
   "id": "047ee117-37b1-4030-91ee-8985f23295ba",
   "metadata": {},
   "outputs": [
    {
     "data": {
      "text/plain": [
       "['three', 'four', 'five']"
      ]
     },
     "execution_count": 203,
     "metadata": {},
     "output_type": "execute_result"
    }
   ],
   "source": [
    "mylist = ['one' , 'two' , 'three' , 'four' , 'five' , 'six' , 'seven' , 'eight']\n",
    "mylist[0][1]\n",
    "mylist[2:5]"
   ]
  },
  {
   "cell_type": "code",
   "execution_count": 223,
   "id": "d6cb8614-2d8b-440a-acff-190962084e03",
   "metadata": {},
   "outputs": [
    {
     "data": {
      "text/plain": [
       "2514773039488"
      ]
     },
     "execution_count": 223,
     "metadata": {},
     "output_type": "execute_result"
    }
   ],
   "source": [
    " mylist3 = [9,5,2,99,12,88,34]\n",
    "my = sorted(mylist3)\n",
    "mylist3.sort()\n",
    "id(mylist3)\n",
    "# id(my)\n",
    "# id(mylist3)"
   ]
  },
  {
   "cell_type": "code",
   "execution_count": 227,
   "id": "193e3241-cc8e-4e15-b1c2-75306197627e",
   "metadata": {},
   "outputs": [
    {
     "name": "stdout",
     "output_type": "stream",
     "text": [
      "[4, 16, 36, 64, 100, 144, 196, 256, 324, 400, 484, 576, 676, 784, 900, 1024, 1156, 1296, 1444]\n"
     ]
    }
   ],
   "source": [
    "print([i**2 for i in range(1,40) if i%2==0])"
   ]
  },
  {
   "cell_type": "code",
   "execution_count": 231,
   "id": "9b7b6cc4-1852-44c0-ac97-08aff786a0f3",
   "metadata": {},
   "outputs": [
    {
     "name": "stdout",
     "output_type": "stream",
     "text": [
      "[2, 4, 6, 8, 10, 12, 14, 16, 18, 20, 22, 24, 26, 28, 30, 32, 34, 36, 38]\n"
     ]
    }
   ],
   "source": [
    "my_list = [i for i in range(1,40) if i%2==0]\n",
    "print(my_list)"
   ]
  },
  {
   "cell_type": "code",
   "execution_count": 233,
   "id": "203c1b9e-6c14-477c-9213-95c5a6aae10d",
   "metadata": {},
   "outputs": [
    {
     "data": {
      "text/plain": [
       "('three', 'four', 'five', 'six', 'seven', 'eight')"
      ]
     },
     "execution_count": 233,
     "metadata": {},
     "output_type": "execute_result"
    }
   ],
   "source": [
    "mytuple = ('one' , 'two' , 'three' , 'four' , 'five' , 'six' , 'seven' , 'eight')\n",
    "mytuple[2:]"
   ]
  },
  {
   "cell_type": "code",
   "execution_count": 8,
   "id": "7699b5e5-89c2-4f06-bab1-9d1b56fade2b",
   "metadata": {},
   "outputs": [],
   "source": [
    "var = 10 \n",
    "def num():\n",
    "    var_1 = 10\n",
    "    print(var)"
   ]
  },
  {
   "cell_type": "code",
   "execution_count": 14,
   "id": "f28f7ece-8a93-437c-927c-ade4cd225cd4",
   "metadata": {},
   "outputs": [
    {
     "name": "stdout",
     "output_type": "stream",
     "text": [
      "35\n"
     ]
    }
   ],
   "source": [
    "p = lambda a,b:a*b\n",
    "print(p(7,5))"
   ]
  },
  {
   "cell_type": "code",
   "execution_count": 18,
   "id": "e8896752-bdfa-4d80-bef5-66538f7d1dc4",
   "metadata": {},
   "outputs": [
    {
     "name": "stdout",
     "output_type": "stream",
     "text": [
      "24\n"
     ]
    }
   ],
   "source": [
    "res = (lambda *args : __builtin__.sum(args))\n",
    "print(res(8,9,7,0))"
   ]
  },
  {
   "cell_type": "code",
   "execution_count": 26,
   "id": "eee57e76-581e-4928-99d5-fb77cd4ca2bc",
   "metadata": {},
   "outputs": [
    {
     "data": {
      "text/plain": [
       "[1, 3, 5, 7, 9]"
      ]
     },
     "execution_count": 26,
     "metadata": {},
     "output_type": "execute_result"
    }
   ],
   "source": [
    "list1 = [1,2,3,4,5,6,7,8,9]\n",
    "oddnum = list(filter(lambda x: x%2==1,list1))\n",
    "oddnum"
   ]
  },
  {
   "cell_type": "code",
   "execution_count": 28,
   "id": "6a37f262-d832-4080-b13a-1e2efc1c0e88",
   "metadata": {},
   "outputs": [],
   "source": [
    "def twice(n):\n",
    "    return n*2"
   ]
  },
  {
   "cell_type": "code",
   "execution_count": 34,
   "id": "dc4838ef-f5ba-40ce-9236-876f55d8ceb9",
   "metadata": {},
   "outputs": [
    {
     "data": {
      "text/plain": [
       "[2, 6, 10, 14, 18]"
      ]
     },
     "execution_count": 34,
     "metadata": {},
     "output_type": "execute_result"
    }
   ],
   "source": [
    "l = list(map(twice,oddnum))\n",
    "l"
   ]
  },
  {
   "cell_type": "code",
   "execution_count": 44,
   "id": "5f1c8125-004f-4ae0-8a18-8cf21640e532",
   "metadata": {},
   "outputs": [],
   "source": [
    "from functools import reduce\n",
    "def multi(a,b):\n",
    "    return a*b"
   ]
  },
  {
   "cell_type": "code",
   "execution_count": 48,
   "id": "6b992f82-7b7c-4c3b-9343-0b6b6ce9b328",
   "metadata": {},
   "outputs": [
    {
     "data": {
      "text/plain": [
       "30240"
      ]
     },
     "execution_count": 48,
     "metadata": {},
     "output_type": "execute_result"
    }
   ],
   "source": [
    "multi_all = reduce(multi,l)\n",
    "multi_all"
   ]
  },
  {
   "cell_type": "markdown",
   "id": "8c0969ec-619a-4e6d-986a-cfe1ff79c613",
   "metadata": {},
   "source": [
    "# File Handling in Python"
   ]
  },
  {
   "cell_type": "code",
   "execution_count": 40,
   "id": "a4dfb1ea-cbf8-4380-b2ac-9ed27ab67258",
   "metadata": {},
   "outputs": [
    {
     "name": "stdout",
     "output_type": "stream",
     "text": [
      "line1\n",
      "line 2 \n",
      "line 3 \n",
      "line 4 \n",
      "  line 5   .  \n",
      "line 6\n",
      "hye , brother    how are you are you doing good    . \n",
      "tell me more about your residency      .\n"
     ]
    }
   ],
   "source": [
    "file = open(\"sample.txt\",\"r\")\n",
    "content = file.read()\n",
    "print(content)\n"
   ]
  },
  {
   "cell_type": "code",
   "execution_count": 60,
   "id": "c3c43828-749e-42a9-bb24-feee15e88675",
   "metadata": {},
   "outputs": [
    {
     "name": "stdout",
     "output_type": "stream",
     "text": [
      "line1 line 2 line 3 line 4 line 5 line 6 hye , brother how are you are you doing good . tell me more 7 about your residency.\n"
     ]
    }
   ],
   "source": [
    "with open(\"sample.txt\",\"r\") as file:\n",
    "    text = file.read()\n",
    "text = text.replace(\"$\", \"\").replace(\"^\", \"\")\n",
    "text = \" \".join(text.split())\n",
    "print(text)"
   ]
  },
  {
   "cell_type": "code",
   "execution_count": 90,
   "id": "ba35299b-acac-47f0-9107-523ce2bad173",
   "metadata": {},
   "outputs": [
    {
     "name": "stdout",
     "output_type": "stream",
     "text": [
      "line1\n",
      "line 2 \n",
      "line 3 \n",
      "line 4 \n",
      "line 5  \n",
      "line 6\n",
      "hye ,    brother how are you are you doing good   . \n",
      "tell me more 7 about your residency.\n"
     ]
    }
   ],
   "source": [
    "with open(\"sample.txt\",\"r\") as file:\n",
    "    text = file.read()\n",
    "text = text.replace(\"$\",\"\").replace(\"^\",\"\")\n",
    "text_clean = \" \".join(text.split(\" \"))\n",
    "print(text)\n",
    "file.close()"
   ]
  },
  {
   "cell_type": "code",
   "execution_count": 100,
   "id": "bb005ca5-7a69-4af0-82b7-0fe0fbae388d",
   "metadata": {},
   "outputs": [],
   "source": [
    "with open(\"sample.txt\",\"w\") as file:\n",
    "    file.write(text_clean)\n"
   ]
  },
  {
   "cell_type": "code",
   "execution_count": 104,
   "id": "316625da-9668-4f68-bf87-f5fde3da5ebd",
   "metadata": {},
   "outputs": [
    {
     "name": "stdout",
     "output_type": "stream",
     "text": [
      "line1\n",
      "line 2 \n",
      "line 3 \n",
      "line 4 \n",
      "line 5  \n",
      "line 6\n",
      "hye ,    brother how are you are you doing good   . \n",
      "tell me more 7$$$^ about your residency.\n"
     ]
    }
   ],
   "source": [
    "with open(\"sample.txt\",\"r\") as file:\n",
    "   text = file.read()\n",
    "print(text)"
   ]
  },
  {
   "cell_type": "code",
   "execution_count": 126,
   "id": "d124e4b7-1bc0-4ba8-af0c-624973726987",
   "metadata": {},
   "outputs": [],
   "source": [
    "with open (\"sample.txt\",'r') as fp:\n",
    " #read all the lines from the file\n",
    " lines=fp.readlines()\n",
    " #open new file in write mode\n",
    " with open (\"test file new.txt\",\"w\") as fp:\n",
    "     count=0\n",
    " #iterate each line from test file\n",
    "     for line in lines:\n",
    "         if count==4:\n",
    "             count += 1\n",
    "             continue\n",
    "         else:\n",
    "             fp.write(line)\n",
    "         count+=1"
   ]
  }
 ],
 "metadata": {
  "kernelspec": {
   "display_name": "Python 3 (ipykernel)",
   "language": "python",
   "name": "python3"
  },
  "language_info": {
   "codemirror_mode": {
    "name": "ipython",
    "version": 3
   },
   "file_extension": ".py",
   "mimetype": "text/x-python",
   "name": "python",
   "nbconvert_exporter": "python",
   "pygments_lexer": "ipython3",
   "version": "3.11.7"
  }
 },
 "nbformat": 4,
 "nbformat_minor": 5
}
